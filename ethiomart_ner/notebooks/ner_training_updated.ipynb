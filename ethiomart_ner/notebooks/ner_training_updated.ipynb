{
 "cells": [
  {
   "cell_type": "markdown",
   "metadata": {},
   "source": [
    "# Task 3: Fine-Tune NER Model (Improved Workflow)\n",
    "\n",
    "This notebook uses the improved `FixedNERTrainer` and `FinalNERPredictor` for Amharic NER."
   ]
  },
  {
   "cell_type": "code",
   "execution_count": 1,
   "metadata": {},
   "outputs": [],
   "source": [
    "# === Configuration ===\n",
    "MODEL_NAME = 'xlm-roberta-base'\n",
    "CONLL_FILE = '../data/labeled/conll_labeled.txt'\n",
    "OUTPUT_DIR = '../models/fixed_ner_model'\n",
    "EPOCHS = 10\n",
    "BATCH_SIZE = 8\n",
    "LEARNING_RATE = 3e-5\n"
   ]
  },
  {
   "cell_type": "markdown",
   "metadata": {},
   "source": [
    "## Train the Model with FixedNERTrainer"
   ]
  },
  {
   "cell_type": "code",
   "execution_count": 3,
   "metadata": {},
   "outputs": [
    {
     "name": "stderr",
     "output_type": "stream",
     "text": [
      "c:\\Users\\Cyber Defense\\Desktop\\week4\\ethiomart_ner\\venv\\Lib\\site-packages\\tqdm\\auto.py:21: TqdmWarning: IProgress not found. Please update jupyter and ipywidgets. See https://ipywidgets.readthedocs.io/en/stable/user_install.html\n",
      "  from .autonotebook import tqdm as notebook_tqdm\n",
      "INFO:model_training.fixed_ner_trainer:Loading tokenizer and model...\n",
      "Some weights of XLMRobertaForTokenClassification were not initialized from the model checkpoint at xlm-roberta-base and are newly initialized: ['classifier.bias', 'classifier.weight']\n",
      "You should probably TRAIN this model on a down-stream task to be able to use it for predictions and inference.\n",
      "INFO:model_training.fixed_ner_trainer:Loading and preparing data...\n",
      "INFO:model_training.fixed_ner_trainer:Loaded 50 sentences\n",
      "INFO:model_training.fixed_ner_trainer:Label distribution: {'I-PRICE': 17, 'B-LOC': 18, 'B-PRICE': 19, 'B-PRODUCT': 14, 'O': 2047}\n",
      "INFO:model_training.fixed_ner_trainer:Class weights: {0: 0.006839276990718124, 1: 0.7368421052631579, 2: 0.8235294117647058, 3: 0.7777777777777778, 4: 0.03309692671394799, 5: 1.0, 6: 0.03309692671394799}\n",
      "INFO:model_training.fixed_ner_trainer:Training set: 40 sentences\n",
      "INFO:model_training.fixed_ner_trainer:Validation set: 10 sentences\n",
      "Map: 100%|██████████| 40/40 [00:00<00:00, 1048.12 examples/s]\n",
      "Map: 100%|██████████| 10/10 [00:00<00:00, 1188.66 examples/s]\n",
      "c:\\Users\\Cyber Defense\\Desktop\\week4\\ethiomart_ner\\src\\model_training\\fixed_ner_trainer.py:160: FutureWarning: `tokenizer` is deprecated and will be removed in version 5.0.0 for `WeightedTrainer.__init__`. Use `processing_class` instead.\n",
      "  super().__init__(*args, **kwargs)\n",
      "INFO:model_training.fixed_ner_trainer:Starting training with class balancing...\n",
      "c:\\Users\\Cyber Defense\\Desktop\\week4\\ethiomart_ner\\venv\\Lib\\site-packages\\torch\\utils\\data\\dataloader.py:665: UserWarning: 'pin_memory' argument is set as true but no accelerator is found, then device pinned memory won't be used.\n",
      "  warnings.warn(warn_msg)\n"
     ]
    },
    {
     "data": {
      "text/html": [
       "\n",
       "    <div>\n",
       "      \n",
       "      <progress value='50' max='50' style='width:300px; height:20px; vertical-align: middle;'></progress>\n",
       "      [50/50 03:34, Epoch 10/10]\n",
       "    </div>\n",
       "    <table border=\"1\" class=\"dataframe\">\n",
       "  <thead>\n",
       " <tr style=\"text-align: left;\">\n",
       "      <th>Epoch</th>\n",
       "      <th>Training Loss</th>\n",
       "      <th>Validation Loss</th>\n",
       "      <th>Accuracy</th>\n",
       "      <th>F1</th>\n",
       "      <th>Precision</th>\n",
       "      <th>Recall</th>\n",
       "      <th>Entity F1</th>\n",
       "    </tr>\n",
       "  </thead>\n",
       "  <tbody>\n",
       "    <tr>\n",
       "      <td>1</td>\n",
       "      <td>1.872300</td>\n",
       "      <td>1.686584</td>\n",
       "      <td>0.839650</td>\n",
       "      <td>0.898292</td>\n",
       "      <td>0.965741</td>\n",
       "      <td>0.839650</td>\n",
       "      <td>{'PRICE': 0.0, 'LOC': 0.0}</td>\n",
       "    </tr>\n",
       "    <tr>\n",
       "      <td>2</td>\n",
       "      <td>1.843200</td>\n",
       "      <td>1.679666</td>\n",
       "      <td>0.813411</td>\n",
       "      <td>0.884257</td>\n",
       "      <td>0.968620</td>\n",
       "      <td>0.813411</td>\n",
       "      <td>{'PRICE': 0.0, 'LOC': 0.0}</td>\n",
       "    </tr>\n",
       "    <tr>\n",
       "      <td>3</td>\n",
       "      <td>1.848100</td>\n",
       "      <td>1.669830</td>\n",
       "      <td>0.813411</td>\n",
       "      <td>0.884257</td>\n",
       "      <td>0.968620</td>\n",
       "      <td>0.813411</td>\n",
       "      <td>{'PRICE': 0.0, 'LOC': 0.0}</td>\n",
       "    </tr>\n",
       "    <tr>\n",
       "      <td>4</td>\n",
       "      <td>1.842600</td>\n",
       "      <td>1.652499</td>\n",
       "      <td>0.760933</td>\n",
       "      <td>0.851717</td>\n",
       "      <td>0.971409</td>\n",
       "      <td>0.760933</td>\n",
       "      <td>{'PRICE': 0.0, 'LOC': 0.024096385542168676}</td>\n",
       "    </tr>\n",
       "    <tr>\n",
       "      <td>5</td>\n",
       "      <td>1.788100</td>\n",
       "      <td>1.632211</td>\n",
       "      <td>0.699708</td>\n",
       "      <td>0.811820</td>\n",
       "      <td>0.982755</td>\n",
       "      <td>0.699708</td>\n",
       "      <td>{'PRICE': 0.0, 'LOC': 0.05504587155963303}</td>\n",
       "    </tr>\n",
       "    <tr>\n",
       "      <td>6</td>\n",
       "      <td>1.781800</td>\n",
       "      <td>1.602839</td>\n",
       "      <td>0.559767</td>\n",
       "      <td>0.706395</td>\n",
       "      <td>0.982678</td>\n",
       "      <td>0.559767</td>\n",
       "      <td>{'PRICE': 0.0, 'LOC': 0.03821656050955414}</td>\n",
       "    </tr>\n",
       "    <tr>\n",
       "      <td>7</td>\n",
       "      <td>1.732700</td>\n",
       "      <td>1.560053</td>\n",
       "      <td>0.419825</td>\n",
       "      <td>0.579907</td>\n",
       "      <td>0.985553</td>\n",
       "      <td>0.419825</td>\n",
       "      <td>{'PRICE': 0.4, 'LOC': 0.029411764705882353}</td>\n",
       "    </tr>\n",
       "    <tr>\n",
       "      <td>8</td>\n",
       "      <td>1.645600</td>\n",
       "      <td>1.491256</td>\n",
       "      <td>0.367347</td>\n",
       "      <td>0.525447</td>\n",
       "      <td>0.985544</td>\n",
       "      <td>0.367347</td>\n",
       "      <td>{'PRICE': 0.25, 'LOC': 0.0273972602739726}</td>\n",
       "    </tr>\n",
       "    <tr>\n",
       "      <td>9</td>\n",
       "      <td>1.537500</td>\n",
       "      <td>1.363780</td>\n",
       "      <td>0.361516</td>\n",
       "      <td>0.513257</td>\n",
       "      <td>0.984924</td>\n",
       "      <td>0.361516</td>\n",
       "      <td>{'PRICE': 0.3157894736842105, 'LOC': 0.02830188679245283}</td>\n",
       "    </tr>\n",
       "    <tr>\n",
       "      <td>10</td>\n",
       "      <td>1.269700</td>\n",
       "      <td>1.146452</td>\n",
       "      <td>0.320700</td>\n",
       "      <td>0.464588</td>\n",
       "      <td>0.983130</td>\n",
       "      <td>0.320700</td>\n",
       "      <td>{'PRICE': 0.08450704225352113, 'LOC': 0.034482758620689655}</td>\n",
       "    </tr>\n",
       "  </tbody>\n",
       "</table><p>"
      ],
      "text/plain": [
       "<IPython.core.display.HTML object>"
      ]
     },
     "metadata": {},
     "output_type": "display_data"
    },
    {
     "name": "stderr",
     "output_type": "stream",
     "text": [
      "c:\\Users\\Cyber Defense\\Desktop\\week4\\ethiomart_ner\\venv\\Lib\\site-packages\\torch\\utils\\data\\dataloader.py:665: UserWarning: 'pin_memory' argument is set as true but no accelerator is found, then device pinned memory won't be used.\n",
      "  warnings.warn(warn_msg)\n",
      "c:\\Users\\Cyber Defense\\Desktop\\week4\\ethiomart_ner\\venv\\Lib\\site-packages\\torch\\utils\\data\\dataloader.py:665: UserWarning: 'pin_memory' argument is set as true but no accelerator is found, then device pinned memory won't be used.\n",
      "  warnings.warn(warn_msg)\n",
      "c:\\Users\\Cyber Defense\\Desktop\\week4\\ethiomart_ner\\venv\\Lib\\site-packages\\torch\\utils\\data\\dataloader.py:665: UserWarning: 'pin_memory' argument is set as true but no accelerator is found, then device pinned memory won't be used.\n",
      "  warnings.warn(warn_msg)\n",
      "c:\\Users\\Cyber Defense\\Desktop\\week4\\ethiomart_ner\\venv\\Lib\\site-packages\\torch\\utils\\data\\dataloader.py:665: UserWarning: 'pin_memory' argument is set as true but no accelerator is found, then device pinned memory won't be used.\n",
      "  warnings.warn(warn_msg)\n",
      "c:\\Users\\Cyber Defense\\Desktop\\week4\\ethiomart_ner\\venv\\Lib\\site-packages\\torch\\utils\\data\\dataloader.py:665: UserWarning: 'pin_memory' argument is set as true but no accelerator is found, then device pinned memory won't be used.\n",
      "  warnings.warn(warn_msg)\n",
      "c:\\Users\\Cyber Defense\\Desktop\\week4\\ethiomart_ner\\venv\\Lib\\site-packages\\torch\\utils\\data\\dataloader.py:665: UserWarning: 'pin_memory' argument is set as true but no accelerator is found, then device pinned memory won't be used.\n",
      "  warnings.warn(warn_msg)\n",
      "c:\\Users\\Cyber Defense\\Desktop\\week4\\ethiomart_ner\\venv\\Lib\\site-packages\\torch\\utils\\data\\dataloader.py:665: UserWarning: 'pin_memory' argument is set as true but no accelerator is found, then device pinned memory won't be used.\n",
      "  warnings.warn(warn_msg)\n",
      "c:\\Users\\Cyber Defense\\Desktop\\week4\\ethiomart_ner\\venv\\Lib\\site-packages\\torch\\utils\\data\\dataloader.py:665: UserWarning: 'pin_memory' argument is set as true but no accelerator is found, then device pinned memory won't be used.\n",
      "  warnings.warn(warn_msg)\n",
      "c:\\Users\\Cyber Defense\\Desktop\\week4\\ethiomart_ner\\venv\\Lib\\site-packages\\torch\\utils\\data\\dataloader.py:665: UserWarning: 'pin_memory' argument is set as true but no accelerator is found, then device pinned memory won't be used.\n",
      "  warnings.warn(warn_msg)\n",
      "INFO:model_training.fixed_ner_trainer:Saving model...\n",
      "INFO:model_training.fixed_ner_trainer:Training completed!\n"
     ]
    },
    {
     "data": {
      "text/plain": [
       "<model_training.fixed_ner_trainer.FixedNERTrainer.create_weighted_trainer.<locals>.WeightedTrainer at 0x259d1523aa0>"
      ]
     },
     "execution_count": 3,
     "metadata": {},
     "output_type": "execute_result"
    }
   ],
   "source": [
    "\n",
    "import sys\n",
    "import os\n",
    "\n",
    "# Get the absolute path to the src directory\n",
    "SRC_PATH = os.path.abspath(os.path.join(os.getcwd(), \"../src\"))\n",
    "if SRC_PATH not in sys.path:\n",
    "    sys.path.insert(0, SRC_PATH)\n",
    "from model_training.fixed_ner_trainer import FixedNERTrainer\n",
    "\n",
    "trainer = FixedNERTrainer(MODEL_NAME)\n",
    "trainer.train(\n",
    "    conll_file=CONLL_FILE,\n",
    "    output_dir=OUTPUT_DIR,\n",
    "    epochs=EPOCHS,\n",
    "    batch_size=BATCH_SIZE,\n",
    "    learning_rate=LEARNING_RATE\n",
    ")\n"
   ]
  },
  {
   "cell_type": "markdown",
   "metadata": {},
   "source": [
    "## Inference: Predict Entities in New Text"
   ]
  },
  {
   "cell_type": "code",
   "execution_count": 5,
   "metadata": {},
   "outputs": [
    {
     "name": "stdout",
     "output_type": "stream",
     "text": [
      "Predicted entities: []\n"
     ]
    }
   ],
   "source": [
    "from model_training.ner_trainer import FinalNERPredictor\n",
    "\n",
    "predictor = FinalNERPredictor(OUTPUT_DIR)\n",
    "sample_text = 'አዲስ አበባ ላይ የሚገኙ የህጻናት ሻይ በ 250 ብር ሽያጭ ላይ ነው'\n",
    "predicted_entities = predictor.predict_with_confidence(sample_text, confidence_threshold=0.4)\n",
    "print('Predicted entities:', predicted_entities)\n"
   ]
  },
  {
   "cell_type": "code",
   "execution_count": 6,
   "metadata": {},
   "outputs": [],
   "source": [
    "from sklearn.model_selection import train_test_split\n",
    "\n",
    "# Load your data as before\n",
    "def load_conll_data(file_path):\n",
    "    sentences = []\n",
    "    labels = []\n",
    "    current_tokens = []\n",
    "    current_labels = []\n",
    "    with open(file_path, 'r', encoding='utf-8') as f:\n",
    "        for line in f:\n",
    "            line = line.strip()\n",
    "            if not line:\n",
    "                if current_tokens:\n",
    "                    sentences.append(current_tokens)\n",
    "                    labels.append(current_labels)\n",
    "                    current_tokens = []\n",
    "                    current_labels = []\n",
    "            else:\n",
    "                parts = line.split('\\t')\n",
    "                if len(parts) == 2:\n",
    "                    token, label = parts\n",
    "                    current_tokens.append(token)\n",
    "                    current_labels.append(label)\n",
    "    if current_tokens:\n",
    "        sentences.append(current_tokens)\n",
    "        labels.append(current_labels)\n",
    "    return sentences, labels\n",
    "\n",
    "sentences, labels = load_conll_data(\"../data/labeled/conll_labeled.txt\")\n",
    "train_sents, val_sents, train_labels, val_labels = train_test_split(\n",
    "    sentences, labels, test_size=0.2, random_state=42\n",
    ")"
   ]
  },
  {
   "cell_type": "markdown",
   "metadata": {},
   "source": []
  }
 ],
 "metadata": {
  "kernelspec": {
   "display_name": "Python (ethiomart venv)",
   "language": "python",
   "name": "ethiomart_venv"
  },
  "language_info": {
   "codemirror_mode": {
    "name": "ipython",
    "version": 3
   },
   "file_extension": ".py",
   "mimetype": "text/x-python",
   "name": "python",
   "nbconvert_exporter": "python",
   "pygments_lexer": "ipython3",
   "version": "3.12.8"
  }
 },
 "nbformat": 4,
 "nbformat_minor": 2
}
