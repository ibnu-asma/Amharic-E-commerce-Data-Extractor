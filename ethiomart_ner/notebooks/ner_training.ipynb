{
 "cells": [
  {
   "cell_type": "markdown",
   "metadata": {},
   "source": [
    "# Task 3: Fine-Tune NER Model\n",
    "## Fine-tuning XLM-RoBERTa for Amharic NER on Ethiopian e-commerce data\n",
    "This notebook implements the complete NER model training pipeline"
   ]
  },
  {
   "cell_type": "code",
   "execution_count": 17,
   "metadata": {},
   "outputs": [
    {
     "name": "stdout",
     "output_type": "stream",
     "text": [
      "=== TASK 3: NER MODEL FINE-TUNING ===\n",
      "PyTorch version: 2.4.1+cpu\n",
      "CUDA available: False\n"
     ]
    }
   ],
   "source": [
    "# Install required packages (run this in Colab)\n",
    "# !pip install transformers datasets torch accelerate evaluate seqeval\n",
    "\n",
    "import sys\n",
    "import os\n",
    "sys.path.append('../')\n",
    "\n",
    "import torch\n",
    "import numpy as np\n",
    "from transformers import (\n",
    "    AutoTokenizer, AutoModelForTokenClassification,\n",
    "    TrainingArguments, Trainer, DataCollatorForTokenClassification\n",
    ")\n",
    "\n",
    "\n",
    "from datasets import Dataset\n",
    "from sklearn.metrics import classification_report\n",
    "import matplotlib.pyplot as plt\n",
    "import seaborn as sns\n",
    "\n",
    "print('=== TASK 3: NER MODEL FINE-TUNING ===')\n",
    "print(f'PyTorch version: {torch.__version__}')\n",
    "print(f'CUDA available: {torch.cuda.is_available()}')\n",
    "if torch.cuda.is_available():\n",
    "    print(f'GPU: {torch.cuda.get_device_name(0)}')"
   ]
  },
  {
   "cell_type": "code",
   "execution_count": 18,
   "metadata": {},
   "outputs": [
    {
     "name": "stdout",
     "output_type": "stream",
     "text": [
      "Model: xlm-roberta-base\n",
      "Labels: ['O', 'B-PRICE', 'I-PRICE', 'B-LOC', 'I-LOC', 'B-PRODUCT', 'I-PRODUCT']\n",
      "Training config: 3 epochs, batch size 16, LR 2e-05\n"
     ]
    }
   ],
   "source": [
    "# Configuration\n",
    "MODEL_NAME = \"xlm-roberta-base\"  # Can also use \"Davlan/bert-tiny-amharic\" or \"castorini/afriberta_base\"\n",
    "CONLL_FILE = \"../data/labeled/conll_labeled.txt\"\n",
    "OUTPUT_DIR = \"../models/fixed_ner_model\"\n",
    "EPOCHS = 10\n",
    "BATCH_SIZE = 8\n",
    "LEARNING_RATE = 3e-5\n",
    "\n",
    "# Entity labels\n",
    "LABEL_LIST = ['O', 'B-PRICE', 'I-PRICE', 'B-LOC', 'I-LOC', 'B-PRODUCT', 'I-PRODUCT']\n",
    "LABEL_TO_ID = {label: i for i, label in enumerate(LABEL_LIST)}\n",
    "ID_TO_LABEL = {i: label for i, label in enumerate(LABEL_LIST)}\n",
    "\n",
    "print(f\"Model: {MODEL_NAME}\")\n",
    "print(f\"Labels: {LABEL_LIST}\")\n",
    "print(f\"Training config: {EPOCHS} epochs, batch size {BATCH_SIZE}, LR {LEARNING_RATE}\")"
   ]
  },
  {
   "cell_type": "code",
   "execution_count": 19,
   "metadata": {},
   "outputs": [
    {
     "name": "stdout",
     "output_type": "stream",
     "text": [
      "✅ Loaded 50 sentences\n",
      "✅ Average sentence length: 42.3 tokens\n",
      "\n",
      "Sample sentence:\n",
      "ይጠቀማሉ           O\n",
      "ብለው             O\n",
      "ለምታስቧቸው         O\n",
      "አሁኑኑ            O\n",
      "ላኩላቸው           O\n",
      "ሶስት             O\n",
      "ቀናት             O\n",
      "ብቻ              O\n",
      "ቀሩት             O\n",
      "ነጻ              O\n"
     ]
    }
   ],
   "source": [
    "# Load CoNLL data\n",
    "def load_conll_data(file_path):\n",
    "    \"\"\"Load CoNLL format data and return sentences and labels.\"\"\"\n",
    "    sentences = []\n",
    "    labels = []\n",
    "    current_tokens = []\n",
    "    current_labels = []\n",
    "    \n",
    "    with open(file_path, 'r', encoding='utf-8') as f:\n",
    "        for line in f:\n",
    "            line = line.strip()\n",
    "            if not line:  # Empty line = sentence boundary\n",
    "                if current_tokens:\n",
    "                    sentences.append(current_tokens)\n",
    "                    labels.append(current_labels)\n",
    "                    current_tokens = []\n",
    "                    current_labels = []\n",
    "            else:\n",
    "                parts = line.split('\\t')\n",
    "                if len(parts) == 2:\n",
    "                    token, label = parts\n",
    "                    current_tokens.append(token)\n",
    "                    current_labels.append(label)\n",
    "    \n",
    "    # Add last sentence if file doesn't end with empty line\n",
    "    if current_tokens:\n",
    "        sentences.append(current_tokens)\n",
    "        labels.append(current_labels)\n",
    "    \n",
    "    return sentences, labels\n",
    "\n",
    "# Load data\n",
    "sentences, labels = load_conll_data(CONLL_FILE)\n",
    "print(f\"✅ Loaded {len(sentences)} sentences\")\n",
    "print(f\"✅ Average sentence length: {np.mean([len(s) for s in sentences]):.1f} tokens\")\n",
    "\n",
    "# Show sample\n",
    "print(\"\\nSample sentence:\")\n",
    "for token, label in zip(sentences[0][:10], labels[0][:10]):\n",
    "    print(f\"{token:15} {label}\")"
   ]
  },
  {
   "cell_type": "code",
   "execution_count": 20,
   "metadata": {},
   "outputs": [
    {
     "name": "stdout",
     "output_type": "stream",
     "text": [
      "Loading tokenizer and model...\n"
     ]
    },
    {
     "name": "stderr",
     "output_type": "stream",
     "text": [
      "c:\\Users\\Cyber Defense\\Desktop\\week4\\ethiomart_ner\\venv\\Lib\\site-packages\\transformers\\tokenization_utils_base.py:1601: FutureWarning: `clean_up_tokenization_spaces` was not set. It will be set to `True` by default. This behavior will be depracted in transformers v4.45, and will be then set to `False` by default. For more details check this issue: https://github.com/huggingface/transformers/issues/31884\n",
      "  warnings.warn(\n",
      "Some weights of XLMRobertaForTokenClassification were not initialized from the model checkpoint at xlm-roberta-base and are newly initialized: ['classifier.bias', 'classifier.weight']\n",
      "You should probably TRAIN this model on a down-stream task to be able to use it for predictions and inference.\n"
     ]
    },
    {
     "name": "stdout",
     "output_type": "stream",
     "text": [
      "✅ Model loaded: xlm-roberta-base\n",
      "✅ Tokenizer vocab size: 250002\n",
      "✅ Model parameters: 277,458,439\n"
     ]
    }
   ],
   "source": [
    "# Initialize tokenizer and model\n",
    "print(\"Loading tokenizer and model...\")\n",
    "tokenizer = AutoTokenizer.from_pretrained(MODEL_NAME)\n",
    "model = AutoModelForTokenClassification.from_pretrained(\n",
    "    MODEL_NAME, \n",
    "    num_labels=len(LABEL_LIST)\n",
    ")\n",
    "\n",
    "print(f\"✅ Model loaded: {model.config.name_or_path}\")\n",
    "print(f\"✅ Tokenizer vocab size: {tokenizer.vocab_size}\")\n",
    "print(f\"✅ Model parameters: {model.num_parameters():,}\")"
   ]
  },
  {
   "cell_type": "code",
   "execution_count": 21,
   "metadata": {},
   "outputs": [
    {
     "name": "stdout",
     "output_type": "stream",
     "text": [
      "Tokenization example:\n",
      "Original tokens: ['ይጠቀማሉ', 'ብለው', 'ለምታስቧቸው', 'አሁኑኑ', 'ላኩላቸው']\n",
      "Tokenized: ['<s>', '▁ይጠ', 'ቀ', 'ማ', 'ሉ', '▁ብለው', '▁', 'ለም', 'ታ', 'ስ']\n",
      "Labels: [-100, 0, -100, -100, -100, 0, 0, -100, -100, -100]\n"
     ]
    }
   ],
   "source": [
    "# Tokenization and label alignment\n",
    "def tokenize_and_align_labels(examples):\n",
    "    \"\"\"Tokenize text and align labels with subword tokens.\"\"\"\n",
    "    tokenized_inputs = tokenizer(\n",
    "        examples[\"tokens\"], \n",
    "        truncation=True, \n",
    "        is_split_into_words=True,\n",
    "        padding=True\n",
    "    )\n",
    "    \n",
    "    labels = []\n",
    "    for i, label in enumerate(examples[\"ner_tags\"]):\n",
    "        word_ids = tokenized_inputs.word_ids(batch_index=i)\n",
    "        previous_word_idx = None\n",
    "        label_ids = []\n",
    "        \n",
    "        for word_idx in word_ids:\n",
    "            if word_idx is None:\n",
    "                # Special tokens get -100 (ignored in loss)\n",
    "                label_ids.append(-100)\n",
    "            elif word_idx != previous_word_idx:\n",
    "                # First subword of a word gets the label\n",
    "                label_ids.append(LABEL_TO_ID[label[word_idx]])\n",
    "            else:\n",
    "                # Other subwords get -100 (ignored)\n",
    "                label_ids.append(-100)\n",
    "            previous_word_idx = word_idx\n",
    "        \n",
    "        labels.append(label_ids)\n",
    "    \n",
    "    tokenized_inputs[\"labels\"] = labels\n",
    "    return tokenized_inputs\n",
    "\n",
    "# Test tokenization\n",
    "sample_tokens = sentences[0][:5]\n",
    "sample_labels = labels[0][:5]\n",
    "test_input = {\"tokens\": [sample_tokens], \"ner_tags\": [sample_labels]}\n",
    "tokenized = tokenize_and_align_labels(test_input)\n",
    "\n",
    "print(\"Tokenization example:\")\n",
    "print(f\"Original tokens: {sample_tokens}\")\n",
    "print(f\"Tokenized: {tokenizer.convert_ids_to_tokens(tokenized['input_ids'][0][:10])}\")\n",
    "print(f\"Labels: {tokenized['labels'][0][:10]}\")"
   ]
  },
  {
   "cell_type": "code",
   "execution_count": 22,
   "metadata": {},
   "outputs": [
    {
     "name": "stdout",
     "output_type": "stream",
     "text": [
      "Train set: 40 sentences\n",
      "Validation set: 10 sentences\n"
     ]
    },
    {
     "name": "stderr",
     "output_type": "stream",
     "text": [
      "Map: 100%|██████████| 40/40 [00:00<00:00, 1535.91 examples/s]\n",
      "Map: 100%|██████████| 10/10 [00:00<00:00, 2798.81 examples/s]"
     ]
    },
    {
     "name": "stdout",
     "output_type": "stream",
     "text": [
      "✅ Datasets prepared\n"
     ]
    },
    {
     "name": "stderr",
     "output_type": "stream",
     "text": [
      "\n"
     ]
    }
   ],
   "source": [
    "# Prepare datasets\n",
    "def prepare_datasets(sentences, labels, test_size=0.2):\n",
    "    \"\"\"Split data and create HuggingFace datasets.\"\"\"\n",
    "    # Split data\n",
    "    split_idx = int(len(sentences) * (1 - test_size))\n",
    "    \n",
    "    train_sentences = sentences[:split_idx]\n",
    "    train_labels = labels[:split_idx]\n",
    "    val_sentences = sentences[split_idx:]\n",
    "    val_labels = labels[split_idx:]\n",
    "    \n",
    "    print(f\"Train set: {len(train_sentences)} sentences\")\n",
    "    print(f\"Validation set: {len(val_sentences)} sentences\")\n",
    "    \n",
    "    # Create datasets\n",
    "    train_dataset = Dataset.from_dict({\n",
    "        \"tokens\": train_sentences,\n",
    "        \"ner_tags\": train_labels\n",
    "    })\n",
    "    \n",
    "    val_dataset = Dataset.from_dict({\n",
    "        \"tokens\": val_sentences,\n",
    "        \"ner_tags\": val_labels\n",
    "    })\n",
    "    \n",
    "    # Apply tokenization\n",
    "    train_dataset = train_dataset.map(tokenize_and_align_labels, batched=True)\n",
    "    val_dataset = val_dataset.map(tokenize_and_align_labels, batched=True)\n",
    "    \n",
    "    return train_dataset, val_dataset\n",
    "\n",
    "train_dataset, val_dataset = prepare_datasets(sentences, labels)\n",
    "print(\"✅ Datasets prepared\")"
   ]
  },
  {
   "cell_type": "code",
   "execution_count": 23,
   "metadata": {},
   "outputs": [
    {
     "name": "stdout",
     "output_type": "stream",
     "text": [
      "✅ Metrics function ready\n"
     ]
    }
   ],
   "source": [
    "# Evaluation metrics\n",
    "def compute_metrics(eval_pred):\n",
    "    \"\"\"Compute precision, recall, F1 for NER evaluation.\"\"\"\n",
    "    predictions, labels = eval_pred\n",
    "    predictions = np.argmax(predictions, axis=2)\n",
    "    \n",
    "    # Remove ignored index (special tokens)\n",
    "    true_predictions = []\n",
    "    true_labels = []\n",
    "    \n",
    "    for prediction, label in zip(predictions, labels):\n",
    "        for pred_id, label_id in zip(prediction, label):\n",
    "            if label_id != -100:\n",
    "                true_predictions.append(ID_TO_LABEL[pred_id])\n",
    "                true_labels.append(ID_TO_LABEL[label_id])\n",
    "    \n",
    "    # Calculate metrics\n",
    "    from sklearn.metrics import accuracy_score, precision_recall_fscore_support\n",
    "    \n",
    "    precision, recall, f1, _ = precision_recall_fscore_support(\n",
    "        true_labels, true_predictions, average='weighted'\n",
    "    )\n",
    "    accuracy = accuracy_score(true_labels, true_predictions)\n",
    "    \n",
    "    return {\n",
    "        'accuracy': accuracy,\n",
    "        'f1': f1,\n",
    "        'precision': precision,\n",
    "        'recall': recall\n",
    "    }\n",
    "\n",
    "print(\"✅ Metrics function ready\")"
   ]
  },
  {
   "cell_type": "code",
   "execution_count": 24,
   "metadata": {},
   "outputs": [
    {
     "name": "stderr",
     "output_type": "stream",
     "text": [
      "c:\\Users\\Cyber Defense\\Desktop\\week4\\ethiomart_ner\\venv\\Lib\\site-packages\\transformers\\training_args.py:1525: FutureWarning: `evaluation_strategy` is deprecated and will be removed in version 4.46 of 🤗 Transformers. Use `eval_strategy` instead\n",
      "  \n"
     ]
    },
    {
     "name": "stdout",
     "output_type": "stream",
     "text": [
      "✅ Trainer initialized\n",
      "Training will save to: ../models/ner_model\n"
     ]
    }
   ],
   "source": [
    "# Training setup\n",
    "\n",
    "\n",
    "from transformers import TrainingArguments\n",
    "\n",
    "os.makedirs(OUTPUT_DIR, exist_ok=True)\n",
    "\n",
    "training_args = TrainingArguments(\n",
    "    output_dir=OUTPUT_DIR,\n",
    "    num_train_epochs=EPOCHS,\n",
    "    per_device_train_batch_size=BATCH_SIZE,\n",
    "    per_device_eval_batch_size=BATCH_SIZE,\n",
    "    warmup_steps=500,\n",
    "    weight_decay=0.01,\n",
    "    logging_dir=f'{OUTPUT_DIR}/logs',\n",
    "    logging_steps=10,\n",
    "    evaluation_strategy=\"epoch\",\n",
    "    save_strategy=\"epoch\",\n",
    "    load_best_model_at_end=True,\n",
    "    learning_rate=LEARNING_RATE,\n",
    "    report_to=None,  # Disable wandb\n",
    ")\n",
    "\n",
    "# Data collator for token classification\n",
    "data_collator = DataCollatorForTokenClassification(tokenizer)\n",
    "\n",
    "# Initialize trainer\n",
    "trainer = Trainer(\n",
    "    model=model,\n",
    "    args=training_args,\n",
    "    train_dataset=train_dataset,\n",
    "    eval_dataset=val_dataset,\n",
    "    tokenizer=tokenizer,\n",
    "    data_collator=data_collator,\n",
    "    compute_metrics=compute_metrics,\n",
    ")\n",
    "\n",
    "print(\"✅ Trainer initialized\")\n",
    "print(f\"Training will save to: {OUTPUT_DIR}\")"
   ]
  },
  {
   "cell_type": "code",
   "execution_count": 25,
   "metadata": {},
   "outputs": [
    {
     "name": "stdout",
     "output_type": "stream",
     "text": [
      "🚀 Starting training...\n",
      "Training on 40 samples\n",
      "Validating on 10 samples\n"
     ]
    },
    {
     "name": "stderr",
     "output_type": "stream",
     "text": [
      " 33%|███▎      | 3/9 [00:33<01:00, 10.16s/it]c:\\Users\\Cyber Defense\\Desktop\\week4\\ethiomart_ner\\venv\\Lib\\site-packages\\sklearn\\metrics\\_classification.py:1706: UndefinedMetricWarning: Precision is ill-defined and being set to 0.0 in labels with no predicted samples. Use `zero_division` parameter to control this behavior.\n",
      "  _warn_prf(average, modifier, f\"{metric.capitalize()} is\", result.shape[0])\n",
      "c:\\Users\\Cyber Defense\\Desktop\\week4\\ethiomart_ner\\venv\\Lib\\site-packages\\sklearn\\metrics\\_classification.py:1706: UndefinedMetricWarning: Recall is ill-defined and being set to 0.0 in labels with no true samples. Use `zero_division` parameter to control this behavior.\n",
      "  _warn_prf(average, modifier, f\"{metric.capitalize()} is\", result.shape[0])\n",
      "                                             \n",
      " 33%|███▎      | 3/9 [00:35<01:00, 10.16s/it]"
     ]
    },
    {
     "name": "stdout",
     "output_type": "stream",
     "text": [
      "{'eval_loss': 1.4915865659713745, 'eval_accuracy': 0.3070539419087137, 'eval_f1': 0.4616572776828574, 'eval_precision': 0.9490678225389693, 'eval_recall': 0.3070539419087137, 'eval_runtime': 1.7952, 'eval_samples_per_second': 5.571, 'eval_steps_per_second': 0.557, 'epoch': 1.0}\n"
     ]
    },
    {
     "name": "stderr",
     "output_type": "stream",
     "text": [
      " 67%|██████▋   | 6/9 [01:12<00:33, 11.05s/it]c:\\Users\\Cyber Defense\\Desktop\\week4\\ethiomart_ner\\venv\\Lib\\site-packages\\sklearn\\metrics\\_classification.py:1706: UndefinedMetricWarning: Precision is ill-defined and being set to 0.0 in labels with no predicted samples. Use `zero_division` parameter to control this behavior.\n",
      "  _warn_prf(average, modifier, f\"{metric.capitalize()} is\", result.shape[0])\n",
      "c:\\Users\\Cyber Defense\\Desktop\\week4\\ethiomart_ner\\venv\\Lib\\site-packages\\sklearn\\metrics\\_classification.py:1706: UndefinedMetricWarning: Recall is ill-defined and being set to 0.0 in labels with no true samples. Use `zero_division` parameter to control this behavior.\n",
      "  _warn_prf(average, modifier, f\"{metric.capitalize()} is\", result.shape[0])\n",
      "                                             \n",
      " 67%|██████▋   | 6/9 [01:14<00:33, 11.05s/it]"
     ]
    },
    {
     "name": "stdout",
     "output_type": "stream",
     "text": [
      "{'eval_loss': 1.4887006282806396, 'eval_accuracy': 0.3360995850622407, 'eval_f1': 0.49454569615462457, 'eval_precision': 0.9517911968377157, 'eval_recall': 0.3360995850622407, 'eval_runtime': 1.7511, 'eval_samples_per_second': 5.711, 'eval_steps_per_second': 0.571, 'epoch': 2.0}\n"
     ]
    },
    {
     "name": "stderr",
     "output_type": "stream",
     "text": [
      "100%|██████████| 9/9 [02:01<00:00, 14.92s/it]c:\\Users\\Cyber Defense\\Desktop\\week4\\ethiomart_ner\\venv\\Lib\\site-packages\\sklearn\\metrics\\_classification.py:1706: UndefinedMetricWarning: Precision is ill-defined and being set to 0.0 in labels with no predicted samples. Use `zero_division` parameter to control this behavior.\n",
      "  _warn_prf(average, modifier, f\"{metric.capitalize()} is\", result.shape[0])\n",
      "c:\\Users\\Cyber Defense\\Desktop\\week4\\ethiomart_ner\\venv\\Lib\\site-packages\\sklearn\\metrics\\_classification.py:1706: UndefinedMetricWarning: Recall is ill-defined and being set to 0.0 in labels with no true samples. Use `zero_division` parameter to control this behavior.\n",
      "  _warn_prf(average, modifier, f\"{metric.capitalize()} is\", result.shape[0])\n",
      "                                             \n",
      "100%|██████████| 9/9 [02:15<00:00, 14.92s/it]"
     ]
    },
    {
     "name": "stdout",
     "output_type": "stream",
     "text": [
      "{'eval_loss': 1.4836786985397339, 'eval_accuracy': 0.36721991701244816, 'eval_f1': 0.5282205733425236, 'eval_precision': 0.9542416065262045, 'eval_recall': 0.36721991701244816, 'eval_runtime': 5.267, 'eval_samples_per_second': 1.899, 'eval_steps_per_second': 0.19, 'epoch': 3.0}\n"
     ]
    },
    {
     "name": "stderr",
     "output_type": "stream",
     "text": [
      "100%|██████████| 9/9 [02:25<00:00, 16.13s/it]"
     ]
    },
    {
     "name": "stdout",
     "output_type": "stream",
     "text": [
      "{'train_runtime': 145.1142, 'train_samples_per_second': 0.827, 'train_steps_per_second': 0.062, 'train_loss': 1.5427527957492404, 'epoch': 3.0}\n",
      "✅ Training completed!\n"
     ]
    },
    {
     "name": "stderr",
     "output_type": "stream",
     "text": [
      "\n"
     ]
    }
   ],
   "source": [
    "# Start training\n",
    "print(\"🚀 Starting training...\")\n",
    "print(f\"Training on {len(train_dataset)} samples\")\n",
    "print(f\"Validating on {len(val_dataset)} samples\")\n",
    "\n",
    "# Train the model\n",
    "trainer.train()\n",
    "\n",
    "print(\"✅ Training completed!\")"
   ]
  },
  {
   "cell_type": "code",
   "execution_count": 26,
   "metadata": {},
   "outputs": [
    {
     "name": "stdout",
     "output_type": "stream",
     "text": [
      "💾 Saving model...\n",
      "✅ Model saved to ../models/ner_model\n",
      "✅ Label mappings saved\n"
     ]
    }
   ],
   "source": [
    "# Save the model\n",
    "print(\"💾 Saving model...\")\n",
    "trainer.save_model()\n",
    "tokenizer.save_pretrained(OUTPUT_DIR)\n",
    "\n",
    "print(f\"✅ Model saved to {OUTPUT_DIR}\")\n",
    "\n",
    "# Save label mappings\n",
    "import json\n",
    "with open(f\"{OUTPUT_DIR}/label_mappings.json\", 'w') as f:\n",
    "    json.dump({\n",
    "        'label_to_id': LABEL_TO_ID,\n",
    "        'id_to_label': ID_TO_LABEL\n",
    "    }, f, indent=2)\n",
    "\n",
    "print(\"✅ Label mappings saved\")"
   ]
  },
  {
   "cell_type": "code",
   "execution_count": 27,
   "metadata": {},
   "outputs": [
    {
     "name": "stdout",
     "output_type": "stream",
     "text": [
      "📊 Evaluating model...\n"
     ]
    },
    {
     "name": "stderr",
     "output_type": "stream",
     "text": [
      "  0%|          | 0/1 [00:00<?, ?it/s]c:\\Users\\Cyber Defense\\Desktop\\week4\\ethiomart_ner\\venv\\Lib\\site-packages\\sklearn\\metrics\\_classification.py:1706: UndefinedMetricWarning: Precision is ill-defined and being set to 0.0 in labels with no predicted samples. Use `zero_division` parameter to control this behavior.\n",
      "  _warn_prf(average, modifier, f\"{metric.capitalize()} is\", result.shape[0])\n",
      "c:\\Users\\Cyber Defense\\Desktop\\week4\\ethiomart_ner\\venv\\Lib\\site-packages\\sklearn\\metrics\\_classification.py:1706: UndefinedMetricWarning: Recall is ill-defined and being set to 0.0 in labels with no true samples. Use `zero_division` parameter to control this behavior.\n",
      "  _warn_prf(average, modifier, f\"{metric.capitalize()} is\", result.shape[0])\n",
      "100%|██████████| 1/1 [00:00<00:00, 63.40it/s]\n"
     ]
    },
    {
     "name": "stdout",
     "output_type": "stream",
     "text": [
      "\n",
      "Evaluation Results:\n",
      "eval_loss: 1.4837\n",
      "eval_accuracy: 0.3672\n",
      "eval_f1: 0.5282\n",
      "eval_precision: 0.9542\n",
      "eval_recall: 0.3672\n",
      "eval_runtime: 5.1481\n",
      "eval_samples_per_second: 1.9420\n",
      "eval_steps_per_second: 0.1940\n",
      "epoch: 3.0000\n"
     ]
    },
    {
     "data": {
      "image/png": "[encoded data removed]",
      "text/plain": [
       "<Figure size 1000x600 with 2 Axes>"
      ]
     },
     "metadata": {},
     "output_type": "display_data"
    }
   ],
   "source": [
    "# Evaluate the model\n",
    "print(\"📊 Evaluating model...\")\n",
    "eval_results = trainer.evaluate()\n",
    "\n",
    "print(\"\\nEvaluation Results:\")\n",
    "for key, value in eval_results.items():\n",
    "    if isinstance(value, float):\n",
    "        print(f\"{key}: {value:.4f}\")\n",
    "    else:\n",
    "        print(f\"{key}: {value}\")\n",
    "\n",
    "# Plot training history if available\n",
    "if hasattr(trainer.state, 'log_history'):\n",
    "    logs = trainer.state.log_history\n",
    "    train_loss = [log['train_loss'] for log in logs if 'train_loss' in log]\n",
    "    eval_loss = [log['eval_loss'] for log in logs if 'eval_loss' in log]\n",
    "    \n",
    "    if train_loss and eval_loss:\n",
    "        plt.figure(figsize=(10, 6))\n",
    "        plt.subplot(1, 2, 1)\n",
    "        plt.plot(train_loss, label='Training Loss')\n",
    "        plt.plot(eval_loss, label='Validation Loss')\n",
    "        plt.title('Training History')\n",
    "        plt.xlabel('Steps')\n",
    "        plt.ylabel('Loss')\n",
    "        plt.legend()\n",
    "        \n",
    "        plt.subplot(1, 2, 2)\n",
    "        eval_f1 = [log['eval_f1'] for log in logs if 'eval_f1' in log]\n",
    "        if eval_f1:\n",
    "            plt.plot(eval_f1, label='F1 Score', color='green')\n",
    "            plt.title('F1 Score Progress')\n",
    "            plt.xlabel('Epochs')\n",
    "            plt.ylabel('F1 Score')\n",
    "            plt.legend()\n",
    "        \n",
    "        plt.tight_layout()\n",
    "        plt.show()"
   ]
  },
  {
   "cell_type": "code",
   "execution_count": 28,
   "metadata": {},
   "outputs": [
    {
     "name": "stdout",
     "output_type": "stream",
     "text": [
      "🧪 Testing with improved FinalNERPredictor:\n",
      "==================================================\n",
      "\n",
      "Text: ህጻን ጠርሙስ ዋጋ 2000 ETB በቦሌ\n",
      "Entities:\n",
      "  - No entities found\n",
      "\n",
      "Text: አዲስ ጫማ 1500 ብር በመርካቶ\n",
      "Entities:\n",
      "  - No entities found\n",
      "\n",
      "Text: Samsung ስልክ 25000 ETB በአዲስ አበባ\n",
      "Entities:\n",
      "  - No entities found\n"
     ]
    }
   ],
   "source": [
    "# Import and use the improved FinalNERPredictor\n",
    "import sys\n",
    "sys.path.append('../src')\n",
    "\n",
    "from model_training.ner_trainer import FinalNERPredictor\n",
    "\n",
    "# Initialize the improved predictor\n",
    "predictor = FinalNERPredictor(\"../models/ner_model\")  # adjust path if needed\n",
    "\n",
    "# Test with sample texts\n",
    "test_texts = [\n",
    "    \"ህጻን ጠርሙስ ዋጋ 2000 ETB በቦሌ\",\n",
    "    \"አዲስ ጫማ 1500 ብር በመርካቶ\",\n",
    "    \"Samsung ስልክ 25000 ETB በአዲስ አበባ\"\n",
    "]\n",
    "\n",
    "print(\"🧪 Testing with improved FinalNERPredictor:\")\n",
    "print(\"=\" * 50)\n",
    "\n",
    "for text in test_texts:\n",
    "    entities = predictor.predict_with_confidence(text, confidence_threshold=0.3)\n",
    "    print(f\"\\nText: {text}\")\n",
    "    print(\"Entities:\")\n",
    "    for entity in entities:\n",
    "        print(f\"  - {entity['text']} [{entity['label']}] (conf: {entity['confidence']:.2f})\")\n",
    "    if not entities:\n",
    "        print(\"  - No entities found\")"
   ]
  },
  {
   "cell_type": "markdown",
   "metadata": {},
   "source": [
    "## Step 2: Use the Improved Inference with Confidence Thresholding\n",
    "\n",
    "For better results, use the FixedNERTrainer for training with class balancing:"
   ]
  },
  {
   "cell_type": "code",
   "execution_count": 29,
   "metadata": {},
   "outputs": [
    {
     "name": "stderr",
     "output_type": "stream",
     "text": [
      "INFO:model_training.fixed_ner_trainer:Loading tokenizer and model...\n",
      "c:\\Users\\Cyber Defense\\Desktop\\week4\\ethiomart_ner\\venv\\Lib\\site-packages\\transformers\\tokenization_utils_base.py:1601: FutureWarning: `clean_up_tokenization_spaces` was not set. It will be set to `True` by default. This behavior will be depracted in transformers v4.45, and will be then set to `False` by default. For more details check this issue: https://github.com/huggingface/transformers/issues/31884\n",
      "  warnings.warn(\n",
      "Some weights of XLMRobertaForTokenClassification were not initialized from the model checkpoint at xlm-roberta-base and are newly initialized: ['classifier.bias', 'classifier.weight']\n",
      "You should probably TRAIN this model on a down-stream task to be able to use it for predictions and inference.\n",
      "INFO:model_training.fixed_ner_trainer:Loading and preparing data...\n",
      "INFO:model_training.fixed_ner_trainer:Loaded 50 sentences\n",
      "INFO:model_training.fixed_ner_trainer:Label distribution: {'B-PRODUCT': 14, 'B-PRICE': 19, 'O': 2047, 'I-PRICE': 17, 'B-LOC': 18}\n",
      "INFO:model_training.fixed_ner_trainer:Class weights: {0: 0.006839276990718124, 1: 0.7368421052631579, 2: 0.8235294117647058, 3: 0.7777777777777778, 4: 0.03309692671394799, 5: 1.0, 6: 0.03309692671394799}\n",
      "INFO:model_training.fixed_ner_trainer:Training set: 40 sentences\n",
      "INFO:model_training.fixed_ner_trainer:Validation set: 10 sentences\n",
      "Map: 100%|██████████| 40/40 [00:00<00:00, 2506.31 examples/s]\n",
      "Map: 100%|██████████| 10/10 [00:00<00:00, 1469.83 examples/s]\n",
      "INFO:model_training.fixed_ner_trainer:Starting training with class balancing...\n",
      " 10%|█         | 5/50 [00:15<02:13,  2.96s/it]"
     ]
    },
    {
     "name": "stdout",
     "output_type": "stream",
     "text": [
      "{'loss': 2.2082, 'grad_norm': 7.2373199462890625, 'learning_rate': 7.5e-07, 'epoch': 1.0}\n"
     ]
    },
    {
     "name": "stderr",
     "output_type": "stream",
     "text": [
      "\n",
      " 10%|█         | 5/50 [00:16<02:13,  2.96s/it]"
     ]
    },
    {
     "name": "stdout",
     "output_type": "stream",
     "text": [
      "{'eval_loss': 1.770011305809021, 'eval_accuracy': 0.32653061224489793, 'eval_f1': 0.4826391313435104, 'eval_precision': 0.94837380279282, 'eval_recall': 0.32653061224489793, 'eval_entity_f1': {'PRICE': 0.0, 'LOC': 0.008658008658008658}, 'eval_runtime': 0.824, 'eval_samples_per_second': 12.136, 'eval_steps_per_second': 2.427, 'epoch': 1.0}\n"
     ]
    },
    {
     "name": "stderr",
     "output_type": "stream",
     "text": [
      " 20%|██        | 10/50 [00:36<02:18,  3.45s/it]"
     ]
    },
    {
     "name": "stdout",
     "output_type": "stream",
     "text": [
      "{'loss': 2.0791, 'grad_norm': 8.81278133392334, 'learning_rate': 1.5e-06, 'epoch': 2.0}\n"
     ]
    },
    {
     "name": "stderr",
     "output_type": "stream",
     "text": [
      "\n",
      " 20%|██        | 10/50 [00:37<02:18,  3.45s/it]"
     ]
    },
    {
     "name": "stdout",
     "output_type": "stream",
     "text": [
      "{'eval_loss': 1.760573148727417, 'eval_accuracy': 0.3323615160349854, 'eval_f1': 0.4891683273414821, 'eval_precision': 0.9489572335532639, 'eval_recall': 0.33236151603498537, 'eval_entity_f1': {'PRICE': 0.0, 'LOC': 0.008733624454148471}, 'eval_runtime': 0.9003, 'eval_samples_per_second': 11.108, 'eval_steps_per_second': 2.222, 'epoch': 2.0}\n"
     ]
    },
    {
     "name": "stderr",
     "output_type": "stream",
     "text": [
      " 30%|███       | 15/50 [00:56<01:55,  3.29s/it]"
     ]
    },
    {
     "name": "stdout",
     "output_type": "stream",
     "text": [
      "{'loss': 2.1666, 'grad_norm': 6.513744354248047, 'learning_rate': 2.25e-06, 'epoch': 3.0}\n"
     ]
    },
    {
     "name": "stderr",
     "output_type": "stream",
     "text": [
      "\n",
      " 30%|███       | 15/50 [00:57<01:55,  3.29s/it]"
     ]
    },
    {
     "name": "stdout",
     "output_type": "stream",
     "text": [
      "{'eval_loss': 1.7459319829940796, 'eval_accuracy': 0.3556851311953353, 'eval_f1': 0.5147280364447631, 'eval_precision': 0.9511083117883271, 'eval_recall': 0.3556851311953353, 'eval_entity_f1': {'PRICE': 0.0, 'LOC': 0.00904977375565611}, 'eval_runtime': 0.792, 'eval_samples_per_second': 12.627, 'eval_steps_per_second': 2.525, 'epoch': 3.0}\n"
     ]
    },
    {
     "name": "stderr",
     "output_type": "stream",
     "text": [
      " 40%|████      | 20/50 [01:16<01:38,  3.30s/it]"
     ]
    },
    {
     "name": "stdout",
     "output_type": "stream",
     "text": [
      "{'loss': 2.1507, 'grad_norm': 10.864744186401367, 'learning_rate': 3e-06, 'epoch': 4.0}\n"
     ]
    },
    {
     "name": "stderr",
     "output_type": "stream",
     "text": [
      "\n",
      " 40%|████      | 20/50 [01:17<01:38,  3.30s/it]"
     ]
    },
    {
     "name": "stdout",
     "output_type": "stream",
     "text": [
      "{'eval_loss': 1.723793387413025, 'eval_accuracy': 0.37317784256559766, 'eval_f1': 0.5314749239160206, 'eval_precision': 0.9597404073229121, 'eval_recall': 0.3731778425655976, 'eval_entity_f1': {'PRICE': 0.0, 'LOC': 0.018433179723502304}, 'eval_runtime': 0.8665, 'eval_samples_per_second': 11.54, 'eval_steps_per_second': 2.308, 'epoch': 4.0}\n"
     ]
    },
    {
     "name": "stderr",
     "output_type": "stream",
     "text": [
      " 50%|█████     | 25/50 [01:38<01:28,  3.55s/it]"
     ]
    },
    {
     "name": "stdout",
     "output_type": "stream",
     "text": [
      "{'loss': 2.0954, 'grad_norm': 6.803820610046387, 'learning_rate': 3.75e-06, 'epoch': 5.0}\n"
     ]
    },
    {
     "name": "stderr",
     "output_type": "stream",
     "text": [
      "\n",
      " 50%|█████     | 25/50 [01:39<01:28,  3.55s/it]"
     ]
    },
    {
     "name": "stdout",
     "output_type": "stream",
     "text": [
      "{'eval_loss': 1.6973453760147095, 'eval_accuracy': 0.40816326530612246, 'eval_f1': 0.5674761243263652, 'eval_precision': 0.9616894758144011, 'eval_recall': 0.40816326530612246, 'eval_entity_f1': {'PRICE': 0.0, 'LOC': 0.01951219512195122}, 'eval_runtime': 0.8635, 'eval_samples_per_second': 11.581, 'eval_steps_per_second': 2.316, 'epoch': 5.0}\n"
     ]
    },
    {
     "name": "stderr",
     "output_type": "stream",
     "text": [
      " 60%|██████    | 30/50 [01:57<01:05,  3.27s/it]"
     ]
    },
    {
     "name": "stdout",
     "output_type": "stream",
     "text": [
      "{'loss': 2.047, 'grad_norm': 7.786573886871338, 'learning_rate': 4.5e-06, 'epoch': 6.0}\n"
     ]
    },
    {
     "name": "stderr",
     "output_type": "stream",
     "text": [
      "\n",
      " 60%|██████    | 30/50 [01:58<01:05,  3.27s/it]"
     ]
    },
    {
     "name": "stdout",
     "output_type": "stream",
     "text": [
      "{'eval_loss': 1.6600008010864258, 'eval_accuracy': 0.4110787172011662, 'eval_f1': 0.5703949339950714, 'eval_precision': 0.9618371208058587, 'eval_recall': 0.4110787172011662, 'eval_entity_f1': {'PRICE': 0.0, 'LOC': 0.0196078431372549}, 'eval_runtime': 0.7323, 'eval_samples_per_second': 13.656, 'eval_steps_per_second': 2.731, 'epoch': 6.0}\n"
     ]
    },
    {
     "name": "stderr",
     "output_type": "stream",
     "text": [
      " 70%|███████   | 35/50 [02:17<00:48,  3.25s/it]"
     ]
    },
    {
     "name": "stdout",
     "output_type": "stream",
     "text": [
      "{'loss': 1.9747, 'grad_norm': 5.678418159484863, 'learning_rate': 5.25e-06, 'epoch': 7.0}\n"
     ]
    },
    {
     "name": "stderr",
     "output_type": "stream",
     "text": [
      "\n",
      " 70%|███████   | 35/50 [02:17<00:48,  3.25s/it]"
     ]
    },
    {
     "name": "stdout",
     "output_type": "stream",
     "text": [
      "{'eval_loss': 1.6064075231552124, 'eval_accuracy': 0.3877551020408163, 'eval_f1': 0.5466977423963558, 'eval_precision': 0.9605945539783333, 'eval_recall': 0.3877551020408163, 'eval_entity_f1': {'PRICE': 0.0, 'LOC': 0.018867924528301886}, 'eval_runtime': 0.731, 'eval_samples_per_second': 13.68, 'eval_steps_per_second': 2.736, 'epoch': 7.0}\n"
     ]
    },
    {
     "name": "stderr",
     "output_type": "stream",
     "text": [
      " 80%|████████  | 40/50 [02:46<00:56,  5.69s/it]"
     ]
    },
    {
     "name": "stdout",
     "output_type": "stream",
     "text": [
      "{'loss': 1.9461, 'grad_norm': 9.927423477172852, 'learning_rate': 6e-06, 'epoch': 8.0}\n"
     ]
    },
    {
     "name": "stderr",
     "output_type": "stream",
     "text": [
      "\n",
      " 80%|████████  | 40/50 [02:48<00:56,  5.69s/it]"
     ]
    },
    {
     "name": "stdout",
     "output_type": "stream",
     "text": [
      "{'eval_loss': 1.5218428373336792, 'eval_accuracy': 0.3760932944606414, 'eval_f1': 0.5338427225941325, 'eval_precision': 0.9748924879288048, 'eval_recall': 0.3760932944606414, 'eval_entity_f1': {'PRICE': 0.0, 'LOC': 0.0273972602739726}, 'eval_runtime': 2.4543, 'eval_samples_per_second': 4.075, 'eval_steps_per_second': 0.815, 'epoch': 8.0}\n"
     ]
    },
    {
     "name": "stderr",
     "output_type": "stream",
     "text": [
      " 90%|█████████ | 45/50 [03:27<00:29,  5.93s/it]"
     ]
    },
    {
     "name": "stdout",
     "output_type": "stream",
     "text": [
      "{'loss': 1.6847, 'grad_norm': 12.029319763183594, 'learning_rate': 6.750000000000001e-06, 'epoch': 9.0}\n"
     ]
    },
    {
     "name": "stderr",
     "output_type": "stream",
     "text": [
      "\n",
      " 90%|█████████ | 45/50 [03:27<00:29,  5.93s/it]"
     ]
    },
    {
     "name": "stdout",
     "output_type": "stream",
     "text": [
      "{'eval_loss': 1.3537338972091675, 'eval_accuracy': 0.3294460641399417, 'eval_f1': 0.48230339156327146, 'eval_precision': 0.9766039555096556, 'eval_recall': 0.3294460641399417, 'eval_entity_f1': {'PRICE': 0.5, 'LOC': 0.02553191489361702}, 'eval_runtime': 0.7132, 'eval_samples_per_second': 14.022, 'eval_steps_per_second': 2.804, 'epoch': 9.0}\n"
     ]
    },
    {
     "name": "stderr",
     "output_type": "stream",
     "text": [
      "100%|██████████| 50/50 [03:46<00:00,  3.58s/it]"
     ]
    },
    {
     "name": "stdout",
     "output_type": "stream",
     "text": [
      "{'loss': 1.4821, 'grad_norm': 14.319326400756836, 'learning_rate': 7.5e-06, 'epoch': 10.0}\n"
     ]
    },
    {
     "name": "stderr",
     "output_type": "stream",
     "text": [
      "\n",
      "100%|██████████| 50/50 [03:51<00:00,  3.58s/it]"
     ]
    },
    {
     "name": "stdout",
     "output_type": "stream",
     "text": [
      "{'eval_loss': 1.179213285446167, 'eval_accuracy': 0.358600583090379, 'eval_f1': 0.5109362566238784, 'eval_precision': 0.9832298584381051, 'eval_recall': 0.358600583090379, 'eval_entity_f1': {'PRICE': 0.125, 'LOC': 0.03015075376884422}, 'eval_runtime': 0.8692, 'eval_samples_per_second': 11.505, 'eval_steps_per_second': 2.301, 'epoch': 10.0}\n"
     ]
    },
    {
     "name": "stderr",
     "output_type": "stream",
     "text": [
      "100%|██████████| 50/50 [03:57<00:00,  4.75s/it]\n",
      "INFO:model_training.fixed_ner_trainer:Saving model...\n"
     ]
    },
    {
     "name": "stdout",
     "output_type": "stream",
     "text": [
      "{'train_runtime': 237.5412, 'train_samples_per_second': 1.684, 'train_steps_per_second': 0.21, 'train_loss': 1.9834592151641846, 'epoch': 10.0}\n"
     ]
    },
    {
     "name": "stderr",
     "output_type": "stream",
     "text": [
      "INFO:model_training.fixed_ner_trainer:Training completed!\n"
     ]
    },
    {
     "name": "stdout",
     "output_type": "stream",
     "text": [
      "\n",
      "✅ Improved model training completed!\n",
      "Use the FinalNERPredictor for better predictions.\n"
     ]
    }
   ],
   "source": [
    "# Use the improved FixedNERTrainer for better results\n",
    "from model_training.fixed_ner_trainer import FixedNERTrainer\n",
    "\n",
    "trainer = FixedNERTrainer(\"xlm-roberta-base\")\n",
    "trainer.train(\n",
    "    conll_file=\"../data/labeled/conll_labeled.txt\",  # adjust path if needed\n",
    "    output_dir=\"../models/fixed_ner_model\",\n",
    "    epochs=10,\n",
    "    batch_size=8,\n",
    "    learning_rate=3e-5\n",
    ")\n",
    "\n",
    "print(\"\\n✅ Improved model training completed!\")\n",
    "print(\"Use the FinalNERPredictor for better predictions.\")"
   ]
  },
  {
   "cell_type": "code",
   "execution_count": 30,
   "metadata": {},
   "outputs": [
    {
     "name": "stdout",
     "output_type": "stream",
     "text": [
      "\n",
      "Text: ህጻን ጠርሙስ ዋጋ 2000 ETB በቦሌ\n",
      "Entities:\n",
      "  - No entities found\n",
      "\n",
      "Text: አዲስ ጫማ 1500 ብር በመርካቶ\n",
      "Entities:\n",
      "  - No entities found\n",
      "\n",
      "Text: Samsung ስልክ 25000 ETB በአዲስ አበባ\n",
      "Entities:\n",
      "  - No entities found\n"
     ]
    }
   ],
   "source": [
    "# After training, use the FinalNERPredictor for better predictions\n",
    "from model_training.ner_trainer import FinalNERPredictor\n",
    "\n",
    "predictor = FinalNERPredictor(\"../models/fixed_ner_model\")  # adjust path if needed\n",
    "\n",
    "test_texts = [\n",
    "    \"ህጻን ጠርሙስ ዋጋ 2000 ETB በቦሌ\",\n",
    "    \"አዲስ ጫማ 1500 ብር በመርካቶ\",\n",
    "    \"Samsung ስልክ 25000 ETB በአዲስ አበባ\"\n",
    "]\n",
    "\n",
    "for text in test_texts:\n",
    "    entities = predictor.predict_with_confidence(text, confidence_threshold=0.3)\n",
    "    print(f\"\\nText: {text}\")\n",
    "    print(\"Entities:\")\n",
    "    for entity in entities:\n",
    "        print(f\"  - {entity['text']} [{entity['label']}] (conf: {entity['confidence']:.2f})\")\n",
    "    if not entities:\n",
    "        print(\"  - No entities found\")"
   ]
  },
  {
   "cell_type": "code",
   "execution_count": 31,
   "metadata": {},
   "outputs": [
    {
     "name": "stdout",
     "output_type": "stream",
     "text": [
      "\n",
      "============================================================\n",
      "TASK 3: NER MODEL FINE-TUNING - COMPLETION SUMMARY\n",
      "============================================================\n",
      "\n",
      "🤖 MODEL DETAILS:\n",
      "   • Base model: xlm-roberta-base\n",
      "   • Fine-tuned for: Amharic NER (PRICE, LOCATION, PRODUCT)\n",
      "   • Training data: 50 sentences\n",
      "   • Entity labels: 7 classes\n",
      "\n",
      "📊 TRAINING RESULTS:\n",
      "   • Epochs: 3\n",
      "   • Final accuracy: 0.3672\n",
      "   • Final F1 score: 0.5282\n",
      "   • Final precision: 0.9542\n",
      "   • Final recall: 0.3672\n",
      "\n",
      "💾 MODEL ARTIFACTS:\n",
      "   • Model saved to: ../models/ner_model\n",
      "   • Tokenizer saved: ✅\n",
      "   • Label mappings: ✅\n",
      "   • Training logs: ✅\n",
      "\n",
      "🎯 PERFORMANCE ASSESSMENT:\n",
      "   ⚠️  FAIR! Consider more training data or tuning\n",
      "\n",
      "🚀 IMPROVED TRAINING AVAILABLE!\n",
      "\n",
      "For better results, use:\n",
      "• FixedNERTrainer with class balancing\n",
      "• FinalNERPredictor with confidence thresholding\n",
      "• More training epochs (10+ recommended)\n",
      "• Additional labeled data for better performance\n"
     ]
    }
   ],
   "source": [
    "# Task 3 Completion Summary\n",
    "print(\"\\n\" + \"=\" * 60)\n",
    "print(\"TASK 3: NER MODEL FINE-TUNING - COMPLETION SUMMARY\")\n",
    "print(\"=\" * 60)\n",
    "\n",
    "print(f\"\\n🤖 MODEL DETAILS:\")\n",
    "print(f\"   • Base model: {MODEL_NAME}\")\n",
    "print(f\"   • Fine-tuned for: Amharic NER (PRICE, LOCATION, PRODUCT)\")\n",
    "print(f\"   • Training data: {len(sentences)} sentences\")\n",
    "print(f\"   • Entity labels: {len(LABEL_LIST)} classes\")\n",
    "\n",
    "print(f\"\\n📊 TRAINING RESULTS:\")\n",
    "print(f\"   • Epochs: {EPOCHS}\")\n",
    "print(f\"   • Final accuracy: {eval_results.get('eval_accuracy', 0):.4f}\")\n",
    "print(f\"   • Final F1 score: {eval_results.get('eval_f1', 0):.4f}\")\n",
    "print(f\"   • Final precision: {eval_results.get('eval_precision', 0):.4f}\")\n",
    "print(f\"   • Final recall: {eval_results.get('eval_recall', 0):.4f}\")\n",
    "\n",
    "print(f\"\\n💾 MODEL ARTIFACTS:\")\n",
    "print(f\"   • Model saved to: {OUTPUT_DIR}\")\n",
    "print(f\"   • Tokenizer saved: ✅\")\n",
    "print(f\"   • Label mappings: ✅\")\n",
    "print(f\"   • Training logs: ✅\")\n",
    "\n",
    "print(f\"\\n🎯 PERFORMANCE ASSESSMENT:\")\n",
    "f1_score = eval_results.get('eval_f1', 0)\n",
    "if f1_score >= 0.8:\n",
    "    print(\"   🎉 EXCELLENT! Model ready for production use\")\n",
    "elif f1_score >= 0.6:\n",
    "    print(\"   ✅ GOOD! Model suitable for most applications\")\n",
    "elif f1_score >= 0.4:\n",
    "    print(\"   ⚠️  FAIR! Consider more training data or tuning\")\n",
    "else:\n",
    "    print(\"   ❌ POOR! Needs significant improvement\")\n",
    "\n",
    "print(f\"\\n🚀 IMPROVED TRAINING AVAILABLE!\")\n",
    "print(\"\\nFor better results, use:\")\n",
    "print(\"• FixedNERTrainer with class balancing\")\n",
    "print(\"• FinalNERPredictor with confidence thresholding\")\n",
    "print(\"• More training epochs (10+ recommended)\")\n",
    "print(\"• Additional labeled data for better performance\")"
   ]
  },
  {
   "cell_type": "markdown",
   "metadata": {},
   "source": [
    "## Recommended Usage\n",
    "\n",
    "For production use, follow these steps:\n",
    "\n",
    "1. **Train with improved trainer:**\n",
    "   ```python\n",
    "   from model_training.fixed_ner_trainer import FixedNERTrainer\n",
    "   trainer = FixedNERTrainer(\"xlm-roberta-base\")\n",
    "   trainer.train(conll_file=\"../data/labeled/conll_labeled.txt\", \n",
    "                output_dir=\"../models/fixed_ner_model\", epochs=10)\n",
    "   ```\n",
    "\n",
    "2. **Use improved predictor:**\n",
    "   ```python\n",
    "   from model_training.ner_trainer import FinalNERPredictor\n",
    "   predictor = FinalNERPredictor(\"../models/fixed_ner_model\")\n",
    "   entities = predictor.predict_with_confidence(text, confidence_threshold=0.3)\n",
    "   ```\n",
    "\n",
    "This approach provides:\n",
    "- Class balancing for imbalanced data\n",
    "- Confidence scoring for predictions\n",
    "- Better entity extraction accuracy"
   ]
  }
 ],
 "metadata": {
  "kernelspec": {
   "display_name": "Python (ethiomart venv)",
   "language": "python",
   "name": "ethiomart_venv"
  },
  "language_info": {
   "codemirror_mode": {
    "name": "ipython",
    "version": 3
   },
   "file_extension": ".py",
   "mimetype": "text/x-python",
   "name": "python",
   "nbconvert_exporter": "python",
   "pygments_lexer": "ipython3",
   "version": "3.12.8"
  }
 },
 "nbformat": 4,
 "nbformat_minor": 4
}
