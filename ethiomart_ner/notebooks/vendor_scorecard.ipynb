{
 "cells": [
  {
   "cell_type": "markdown",
   "metadata": {},
   "source": [
    "# Task 6: FinTech Vendor Scorecard for Micro-Lending"
   ]
  },
  {
   "cell_type": "code",
   "execution_count": 1,
   "metadata": {},
   "outputs": [
    {
     "name": "stderr",
     "output_type": "stream",
     "text": [
      "c:\\Users\\Cyber Defense\\Desktop\\week4\\ethiomart_ner\\venv\\Lib\\site-packages\\tqdm\\auto.py:21: TqdmWarning: IProgress not found. Please update jupyter and ipywidgets. See https://ipywidgets.readthedocs.io/en/stable/user_install.html\n",
      "  from .autonotebook import tqdm as notebook_tqdm\n"
     ]
    },
    {
     "name": "stdout",
     "output_type": "stream",
     "text": [
      "AwasMart: 100 posts\n",
      "ethio_market_place: 100 posts\n",
      "ethiomarketo: 99 posts\n",
      "helloomarketethiopia: 100 posts\n",
      "jijietcom: 100 posts\n"
     ]
    }
   ],
   "source": [
    "import pandas as pd\n",
    "import numpy as np\n",
    "import os\n",
    "import sys\n",
    "import re\n",
    "from datetime import datetime\n",
    "\n",
    "SRC_PATH = os.path.abspath(os.path.join(os.getcwd(), '../src'))\n",
    "if SRC_PATH not in sys.path:\n",
    "    sys.path.insert(0, SRC_PATH)\n",
    "    \n",
    "from model_training.ner_trainer import FinalNERPredictor\n",
    "\n",
    "# Load NER model\n",
    "predictor = FinalNERPredictor('../models/distilbert_ner')\n",
    "\n",
    "# Load CSV data from 5 channels\n",
    "csv_files = {\n",
    "    'AwasMart': '../data/processed/AwasMart_20250621_051236.csv',\n",
    "    'ethio_market_place': '../data/processed/ethio_market_place_20250621_050022.csv',\n",
    "    'ethiomarketo': '../data/processed/ethiomarketo_20250621_050735.csv',\n",
    "    'helloomarketethiopia': '../data/processed/helloomarketethiopia_20250621_050538.csv',\n",
    "    'jijietcom': '../data/processed/jijietcom_20250621_050636.csv'\n",
    "}\n",
    "\n",
    "vendor_data = {}\n",
    "for vendor, file_path in csv_files.items():\n",
    "    vendor_data[vendor] = pd.read_csv(file_path)\n",
    "    print(f\"{vendor}: {len(vendor_data[vendor])} posts\")"
   ]
  },
  {
   "cell_type": "code",
   "execution_count": 2,
   "metadata": {},
   "outputs": [
    {
     "name": "stdout",
     "output_type": "stream",
     "text": [
      "AwasMart: 2740.7 avg views, 53.8 posts/week\n",
      "ethio_market_place: 34.3 avg views, 19.4 posts/week\n",
      "ethiomarketo: 150749.0 avg views, 99.0 posts/week\n",
      "helloomarketethiopia: 3040.7 avg views, 7.8 posts/week\n",
      "jijietcom: 223.8 avg views, 700.0 posts/week\n"
     ]
    }
   ],
   "source": [
    "def extract_prices(text):\n",
    "    \"\"\"Extract prices using NER + regex\"\"\"\n",
    "    prices = []\n",
    "    entities = predictor.predict_simple(text)\n",
    "    for entity in entities:\n",
    "        if entity['label'] == 'PRICE':\n",
    "            nums = re.findall(r'\\d+', entity['text'])\n",
    "            if nums:\n",
    "                prices.append(int(nums[0]))\n",
    "    \n",
    "    # Fallback regex\n",
    "    if not prices:\n",
    "        for pattern in [r'(\\d+)\\s*ብር', r'(\\d+)\\s*ETB', r'(\\d+)\\s*birr']:\n",
    "            prices.extend([int(m) for m in re.findall(pattern, text, re.IGNORECASE)])\n",
    "    \n",
    "    return prices\n",
    "\n",
    "def analyze_vendor(df, vendor_name):\n",
    "    \"\"\"Analyze vendor metrics\"\"\"\n",
    "    total_posts = len(df)\n",
    "    avg_views = df['views'].mean() if 'views' in df.columns else 0\n",
    "    \n",
    "    # Calculate posts per week\n",
    "    if 'date' in df.columns:\n",
    "        dates = pd.to_datetime(df['date'], errors='coerce').dropna()\n",
    "        if len(dates) > 1:\n",
    "            days = (dates.max() - dates.min()).days\n",
    "            posts_per_week = (total_posts * 7) / max(days, 1)\n",
    "        else:\n",
    "            posts_per_week = 0\n",
    "    else:\n",
    "        posts_per_week = 0\n",
    "    \n",
    "    # Extract prices\n",
    "    all_prices = []\n",
    "    for text in df['text'].fillna(''):\n",
    "        all_prices.extend(extract_prices(str(text)))\n",
    "    \n",
    "    avg_price = np.mean(all_prices) if all_prices else 0\n",
    "    \n",
    "    # Top post\n",
    "    if 'views' in df.columns:\n",
    "        top_idx = df['views'].idxmax()\n",
    "        top_views = df.loc[top_idx, 'views']\n",
    "        top_text = str(df.loc[top_idx, 'text'])[:100] + '...'\n",
    "    else:\n",
    "        top_views = 0\n",
    "        top_text = ''\n",
    "    \n",
    "    return {\n",
    "        'vendor': vendor_name,\n",
    "        'total_posts': total_posts,\n",
    "        'avg_views': avg_views,\n",
    "        'posts_per_week': posts_per_week,\n",
    "        'avg_price': avg_price,\n",
    "        'top_views': top_views,\n",
    "        'top_text': top_text,\n",
    "        'price_count': len(all_prices)\n",
    "    }\n",
    "\n",
    "# Analyze all vendors\n",
    "vendor_metrics = {}\n",
    "for vendor, df in vendor_data.items():\n",
    "    vendor_metrics[vendor] = analyze_vendor(df, vendor)\n",
    "    print(f\"{vendor}: {vendor_metrics[vendor]['avg_views']:.1f} avg views, {vendor_metrics[vendor]['posts_per_week']:.1f} posts/week\")"
   ]
  },
  {
   "cell_type": "code",
   "execution_count": 3,
   "metadata": {},
   "outputs": [
    {
     "name": "stdout",
     "output_type": "stream",
     "text": [
      "=== VENDOR SCORECARD ===\n",
      "              Vendor  Avg Views/Post  Posts/Week  Avg Price (ETB)  Total Posts  Lending Score\n",
      "        ethiomarketo        150749.0        99.0     2.266486e+11           99         100.00\n",
      "            AwasMart          2740.7        53.8     2.119144e+11          100          63.70\n",
      "helloomarketethiopia          3040.7         7.8     2.260847e+11          100          58.54\n",
      "           jijietcom           223.8       700.0     4.354030e+09          100          51.12\n",
      "  ethio_market_place            34.3        19.4     1.845044e+08          100          50.17\n"
     ]
    }
   ],
   "source": [
    "def calculate_lending_score(metrics):\n",
    "    \"\"\"Calculate lending score\"\"\"\n",
    "    view_score = min(metrics['avg_views'] / 100, 100)\n",
    "    frequency_score = min(metrics['posts_per_week'] * 10, 100)\n",
    "    price_score = min(metrics['avg_price'] / 100, 100) if metrics['avg_price'] > 0 else 0\n",
    "    \n",
    "    return round(view_score * 0.5 + frequency_score * 0.3 + price_score * 0.2, 2)\n",
    "\n",
    "# Create scorecard\n",
    "scorecard = []\n",
    "for vendor, metrics in vendor_metrics.items():\n",
    "    lending_score = calculate_lending_score(metrics)\n",
    "    scorecard.append({\n",
    "        'Vendor': vendor,\n",
    "        'Avg Views/Post': round(metrics['avg_views'], 1),\n",
    "        'Posts/Week': round(metrics['posts_per_week'], 1),\n",
    "        'Avg Price (ETB)': round(metrics['avg_price'], 0) if metrics['avg_price'] > 0 else 'N/A',\n",
    "        'Total Posts': metrics['total_posts'],\n",
    "        'Lending Score': lending_score\n",
    "    })\n",
    "\n",
    "scorecard_df = pd.DataFrame(scorecard).sort_values('Lending Score', ascending=False)\n",
    "\n",
    "print(\"=== VENDOR SCORECARD ===\")\n",
    "print(scorecard_df.to_string(index=False))"
   ]
  },
  {
   "cell_type": "code",
   "execution_count": 4,
   "metadata": {},
   "outputs": [
    {
     "name": "stdout",
     "output_type": "stream",
     "text": [
      "\n",
      "=== LENDING RECOMMENDATIONS ===\n",
      "              Vendor  Risk Level   Recommended Loan  Score\n",
      "        ethiomarketo    LOW RISK 50,000-100,000 ETB 100.00\n",
      "            AwasMart MEDIUM RISK  20,000-50,000 ETB  63.70\n",
      "helloomarketethiopia MEDIUM RISK  20,000-50,000 ETB  58.54\n",
      "           jijietcom MEDIUM RISK  20,000-50,000 ETB  51.12\n",
      "  ethio_market_place MEDIUM RISK  20,000-50,000 ETB  50.17\n",
      "\n",
      "=== SUMMARY ===\n",
      "Total Vendors: 5\n",
      "Low Risk: 1\n",
      "Medium Risk: 4\n",
      "High Risk: 0\n",
      "Rejected: 0\n",
      "Average Score: 64.71\n"
     ]
    }
   ],
   "source": [
    "# Lending recommendations\n",
    "recommendations = []\n",
    "for _, row in scorecard_df.iterrows():\n",
    "    score = row['Lending Score']\n",
    "    if score >= 70:\n",
    "        risk, loan = \"LOW RISK\", \"50,000-100,000 ETB\"\n",
    "    elif score >= 50:\n",
    "        risk, loan = \"MEDIUM RISK\", \"20,000-50,000 ETB\"\n",
    "    elif score >= 30:\n",
    "        risk, loan = \"HIGH RISK\", \"5,000-20,000 ETB\"\n",
    "    else:\n",
    "        risk, loan = \"REJECT\", \"Not Recommended\"\n",
    "    \n",
    "    recommendations.append({\n",
    "        'Vendor': row['Vendor'],\n",
    "        'Risk Level': risk,\n",
    "        'Recommended Loan': loan,\n",
    "        'Score': score\n",
    "    })\n",
    "\n",
    "rec_df = pd.DataFrame(recommendations)\n",
    "\n",
    "print(\"\\n=== LENDING RECOMMENDATIONS ===\")\n",
    "print(rec_df.to_string(index=False))\n",
    "\n",
    "print(\"\\n=== SUMMARY ===\")\n",
    "print(f\"Total Vendors: {len(scorecard_df)}\")\n",
    "print(f\"Low Risk: {len(rec_df[rec_df['Risk Level'] == 'LOW RISK'])}\")\n",
    "print(f\"Medium Risk: {len(rec_df[rec_df['Risk Level'] == 'MEDIUM RISK'])}\")\n",
    "print(f\"High Risk: {len(rec_df[rec_df['Risk Level'] == 'HIGH RISK'])}\")\n",
    "print(f\"Rejected: {len(rec_df[rec_df['Risk Level'] == 'REJECT'])}\")\n",
    "print(f\"Average Score: {scorecard_df['Lending Score'].mean():.2f}\")"
   ]
  },
  {
   "cell_type": "code",
   "execution_count": 5,
   "metadata": {},
   "outputs": [
    {
     "name": "stdout",
     "output_type": "stream",
     "text": [
      "=== TOP PERFORMERS ===\n",
      "\n",
      "ethiomarketo:\n",
      "  Score: 100.0\n",
      "  Views: 150749.0 avg/post\n",
      "  Activity: 99.0 posts/week\n",
      "  Top Post: 368087 views\n",
      "  Sample: #New_Max_Man_Enlargement\n",
      "🌔🌹🌺የስንፈተ ወሲብ መፍትሄን💯 በሁሉም አማራጭ አቀረብንሎት🙏🙏\n",
      "☎️☎️ 📞 +251977013966\n",
      "❤️በወሲብ (sex...\n",
      "\n",
      "AwasMart:\n",
      "  Score: 63.7\n",
      "  Views: 2740.7 avg/post\n",
      "  Activity: 53.8 posts/week\n",
      "  Top Post: 3763 views\n",
      "  Sample: nan...\n",
      "\n",
      "helloomarketethiopia:\n",
      "  Score: 58.54\n",
      "  Views: 3040.7 avg/post\n",
      "  Activity: 7.8 posts/week\n",
      "  Top Post: 4809 views\n",
      "  Sample: nan...\n",
      "\n",
      "Results exported to ../results/\n"
     ]
    }
   ],
   "source": [
    "# Top performers analysis\n",
    "print(\"=== TOP PERFORMERS ===\")\n",
    "for _, vendor in scorecard_df.head(3).iterrows():\n",
    "    vendor_name = vendor['Vendor']\n",
    "    metrics = vendor_metrics[vendor_name]\n",
    "    print(f\"\\n{vendor_name}:\")\n",
    "    print(f\"  Score: {vendor['Lending Score']}\")\n",
    "    print(f\"  Views: {vendor['Avg Views/Post']} avg/post\")\n",
    "    print(f\"  Activity: {vendor['Posts/Week']} posts/week\")\n",
    "    print(f\"  Top Post: {metrics['top_views']} views\")\n",
    "    print(f\"  Sample: {metrics['top_text']}\")\n",
    "\n",
    "# Export results\n",
    "os.makedirs('../results', exist_ok=True)\n",
    "scorecard_df.to_csv('../results/vendor_scorecard.csv', index=False)\n",
    "rec_df.to_csv('../results/lending_recommendations.csv', index=False)\n",
    "print(\"\\nResults exported to ../results/\")"
   ]
  }
 ],
 "metadata": {
  "kernelspec": {
   "display_name": "Python (ethiomart venv)",
   "language": "python",
   "name": "ethiomart_venv"
  },
  "language_info": {
   "codemirror_mode": {
    "name": "ipython",
    "version": 3
   },
   "file_extension": ".py",
   "mimetype": "text/x-python",
   "name": "python",
   "nbconvert_exporter": "python",
   "pygments_lexer": "ipython3",
   "version": "3.12.8"
  }
 },
 "nbformat": 4,
 "nbformat_minor": 4
}
