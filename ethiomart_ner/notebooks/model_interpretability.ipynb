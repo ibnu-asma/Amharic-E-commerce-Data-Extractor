{
    "cells": [
     {
      "cell_type": "markdown",
      "metadata": {},
      "source": [
       "# Task 5: Model Interpretability for Amharic NER\n",
       "\n",
       "This notebook demonstrates how to use SHAP and LIME to interpret the predictions of your best NER model."
      ]
     },
     {
      "cell_type": "markdown",
      "metadata": {},
      "source": [
       "## 1. Setup & Imports"
      ]
     },
     {
      "cell_type": "code",
      "execution_count": 1,
      "metadata": {},
      "outputs": [
       {
        "name": "stderr",
        "output_type": "stream",
        "text": [
         "c:\\Users\\Cyber Defense\\Desktop\\week4\\ethiomart_ner\\venv\\Lib\\site-packages\\tqdm\\auto.py:21: TqdmWarning: IProgress not found. Please update jupyter and ipywidgets. See https://ipywidgets.readthedocs.io/en/stable/user_install.html\n",
         "  from .autonotebook import tqdm as notebook_tqdm\n"
        ]
       }
      ],
      "source": [
       "import sys\n",
       "import os\n",
       "import numpy as np\n",
       "import matplotlib.pyplot as plt\n",
       "from IPython.display import display, HTML\n",
       "\n",
       "SRC_PATH = os.path.abspath(os.path.join(os.getcwd(), '../src'))\n",
       "if SRC_PATH not in sys.path:\n",
       "    sys.path.insert(0, SRC_PATH)\n",
       "    \n",
       "from model_training.ner_trainer import FinalNERPredictor"
      ]
     },
     {
      "cell_type": "markdown",
      "metadata": {},
      "source": [
       "## 2. Load Model"
      ]
     },
     {
      "cell_type": "code",
      "execution_count": 2,
      "metadata": {},
      "outputs": [],
      "source": [
       "MODEL_DIR = '../models/distilbert_ner'\n",
       "predictor = FinalNERPredictor(MODEL_DIR)"
      ]
     },
     {
      "cell_type": "markdown",
      "metadata": {},
      "source": [
       "## 3. Sample Analysis"
      ]
     },
     {
      "cell_type": "code",
      "execution_count": 3,
      "metadata": {},
      "outputs": [
       {
        "name": "stdout",
        "output_type": "stream",
        "text": [
         "Text 1: አዲስ አበባ ላይ የሕጻናት ሻይ በ250 ብር ሽያጭ ላይ ነው\n",
         "Entities: []\n",
         "\n",
         "Text 2: በቦሌ ማእከል አዲስ ምርቶች በ5000 ብር ሽያጭ ላይ ናቸው\n",
         "Entities: []\n",
         "\n",
         "Text 3: Samsung ስልክ 25000 ETB በአዲስ አበባ\n",
         "Entities: [{'text': '25000', 'label': 'PRICE', 'start': 2, 'end': 2, 'confidence': 0.3091602921485901}]\n",
         "\n",
         "Text 4: ህጻን ጠርሙስ ዋጋ 2000 ETB በቦሌ\n",
         "Entities: []\n",
         "\n"
        ]
       }
      ],
      "source": [
       "texts = [\n",
       "    \"አዲስ አበባ ላይ የሕጻናት ሻይ በ250 ብር ሽያጭ ላይ ነው\",\n",
       "    \"በቦሌ ማእከል አዲስ ምርቶች በ5000 ብር ሽያጭ ላይ ናቸው\",\n",
       "    \"Samsung ስልክ 25000 ETB በአዲስ አበባ\",\n",
       "    \"ህጻን ጠርሙስ ዋጋ 2000 ETB በቦሌ\"\n",
       "]\n",
       "\n",
       "for i, text in enumerate(texts):\n",
       "    entities = predictor.predict_simple(text)\n",
       "    print(f\"Text {i+1}: {text}\")\n",
       "    print(f\"Entities: {entities}\\n\")"
      ]
     },
     {
      "cell_type": "markdown",
      "metadata": {},
      "source": [
       "## 4. SHAP Analysis"
      ]
     },
     {
      "cell_type": "code",
      "execution_count": 4,
      "metadata": {},
      "outputs": [
       {
        "name": "stdout",
        "output_type": "stream",
        "text": [
         "\n",
         "SHAP Analysis:\n"
        ]
       },
       {
        "data": {
         "text/html": [
          "<span style='background-color:rgba(254, 237, 228, 0.8); padding:2px; margin:1px; border-radius:3px'>Samsung</span> <span style='background-color:rgba(254, 231, 221, 0.8); padding:2px; margin:1px; border-radius:3px'>ስልክ</span> <span style='background-color:rgba(252, 185, 159, 0.8); padding:2px; margin:1px; border-radius:3px'>25000</span> <span style='background-color:rgba(254, 243, 237, 0.8); padding:2px; margin:1px; border-radius:3px'>25000</span> <span style='background-color:rgba(103, 0, 12, 0.8); padding:2px; margin:1px; border-radius:3px'>ETB</span> <span style='background-color:rgba(255, 245, 240, 0.8); padding:2px; margin:1px; border-radius:3px'>ETB</span> <span style='background-color:rgba(254, 238, 230, 0.8); padding:2px; margin:1px; border-radius:3px'>በአዲስ</span> <span style='background-color:rgba(254, 231, 221, 0.8); padding:2px; margin:1px; border-radius:3px'>አበባ</span> "
         ],
         "text/plain": [
          "<IPython.core.display.HTML object>"
         ]
        },
        "metadata": {},
        "output_type": "display_data"
       }
      ],
      "source": [
       "def shap_analysis(text, predictor):\n",
       "    \"\"\"SHAP-like analysis using token probabilities\"\"\"\n",
       "    try:\n",
       "        probs, tokens = predictor.predict_token_probs(text)\n",
       "        if len(probs) == 0:\n",
       "            return text.split(), [0.0] * len(text.split())\n",
       "        \n",
       "        baseline_prob = 1.0 / len(predictor.label_list)\n",
       "        shap_values = []\n",
       "        \n",
       "        for token_probs in probs:\n",
       "            max_prob = np.max(token_probs)\n",
       "            shap_value = max_prob - baseline_prob\n",
       "            shap_values.append(max(0, shap_value))\n",
       "        \n",
       "        return tokens, shap_values\n",
       "    except:\n",
       "        tokens = text.split()\n",
       "        return tokens, [0.1] * len(tokens)\n",
       "\n",
       "def visualize_token_importance(tokens, scores, title=\"Token Importance\"):\n",
       "    \"\"\"Visualize token importance with color coding\"\"\"\n",
       "    if not scores or max(scores) == min(scores):\n",
       "        scores = [0.1] * len(tokens)\n",
       "    \n",
       "    norm = plt.Normalize(min(scores), max(scores))\n",
       "    html = \"\"\n",
       "    \n",
       "    for token, score in zip(tokens, scores):\n",
       "        color = plt.cm.Reds(norm(score))\n",
       "        color_str = f\"rgba({int(color[0]*255)}, {int(color[1]*255)}, {int(color[2]*255)}, 0.8)\"\n",
       "        html += f\"<span style='background-color:{color_str}; padding:2px; margin:1px; border-radius:3px'>{token}</span> \"\n",
       "    \n",
       "    print(f\"\\n{title}:\")\n",
       "    display(HTML(html))\n",
       "\n",
       "# Analyze with SHAP\n",
       "sample_text = \"Samsung ስልክ 25000 ETB በአዲስ አበባ\"\n",
       "tokens, shap_scores = shap_analysis(sample_text, predictor)\n",
       "visualize_token_importance(tokens, shap_scores, \"SHAP Analysis\")"
      ]
     },
     {
      "cell_type": "markdown",
      "metadata": {},
      "source": [
       "## 5. LIME Analysis"
      ]
     },
     {
      "cell_type": "code",
      "execution_count": 5,
      "metadata": {},
      "outputs": [
       {
        "name": "stdout",
        "output_type": "stream",
        "text": [
         "\n",
         "LIME Analysis:\n"
        ]
       },
       {
        "data": {
         "text/html": [
          "<span style='background-color:rgba(103, 0, 12, 0.8); padding:2px; margin:1px; border-radius:3px'>Samsung</span> <span style='background-color:rgba(103, 0, 12, 0.8); padding:2px; margin:1px; border-radius:3px'>ስልክ</span> <span style='background-color:rgba(103, 0, 12, 0.8); padding:2px; margin:1px; border-radius:3px'>25000</span> <span style='background-color:rgba(103, 0, 12, 0.8); padding:2px; margin:1px; border-radius:3px'>ETB</span> <span style='background-color:rgba(255, 245, 240, 0.8); padding:2px; margin:1px; border-radius:3px'>በአዲስ</span> <span style='background-color:rgba(255, 245, 240, 0.8); padding:2px; margin:1px; border-radius:3px'>አበባ</span> "
         ],
         "text/plain": [
          "<IPython.core.display.HTML object>"
         ]
        },
        "metadata": {},
        "output_type": "display_data"
       }
      ],
      "source": [
       "def simple_lime_analysis(text, predictor):\n",
       "    \"\"\"Simple LIME-like analysis by masking tokens\"\"\"\n",
       "    tokens = text.split()\n",
       "    base_entities = predictor.predict_simple(text)\n",
       "    \n",
       "    importances = []\n",
       "    for i, token in enumerate(tokens):\n",
       "        masked_tokens = tokens.copy()\n",
       "        masked_tokens[i] = \"[MASK]\"\n",
       "        masked_text = \" \".join(masked_tokens)\n",
       "        \n",
       "        masked_entities = predictor.predict_simple(masked_text)\n",
       "        importance = len(base_entities) - len(masked_entities)\n",
       "        importances.append(max(0, importance))\n",
       "    \n",
       "    return tokens, importances\n",
       "\n",
       "# Analyze with LIME\n",
       "tokens, lime_scores = simple_lime_analysis(sample_text, predictor)\n",
       "visualize_token_importance(tokens, lime_scores, \"LIME Analysis\")"
      ]
     },
     {
      "cell_type": "markdown",
      "metadata": {},
      "source": [
       "## 6. Difficult Cases Analysis"
      ]
     },
     {
      "cell_type": "code",
      "execution_count": 6,
      "metadata": {},
      "outputs": [
       {
        "name": "stdout",
        "output_type": "stream",
        "text": [
         "=== DIFFICULT CASES ANALYSIS ===\n",
         "\n",
         "Case 1: 250 ብር በአዲስ አበባ\n",
         "Entities: 0 found\n",
         "LIME important tokens: []\n",
         "SHAP high-confidence tokens: []\n",
         "\n",
         "Case 2: አዲስ ምርት ሽያጭ\n",
         "Entities: 0 found\n",
         "LIME important tokens: []\n",
         "SHAP high-confidence tokens: []\n",
         "\n",
         "Case 3: በቦሌ 1000\n",
         "Entities: 0 found\n",
         "LIME important tokens: []\n",
         "SHAP high-confidence tokens: []\n",
         "\n",
         "Case 4: ሻይ ቡና 500 ብር\n",
         "Entities: 0 found\n",
         "LIME important tokens: []\n",
         "SHAP high-confidence tokens: []\n",
         "\n",
         "Case 5: አዲስ አበባ ሻይ\n",
         "Entities: 0 found\n",
         "LIME important tokens: []\n",
         "SHAP high-confidence tokens: []\n"
        ]
       }
      ],
      "source": [
       "# Difficult/ambiguous test cases\n",
       "difficult_cases = [\n",
       "    \"250 ብር በአዲስ አበባ\",      # Price without clear product\n",
       "    \"አዲስ ምርት ሽያጭ\",          # Product without price\n",
       "    \"በቦሌ 1000\",             # Location with number (ambiguous)\n",
       "    \"ሻይ ቡና 500 ብር\",        # Multiple products, one price\n",
       "    \"አዲስ አበባ ሻይ\"           # Location + product (ambiguous)\n",
       "]\n",
       "\n",
       "print(\"=== DIFFICULT CASES ANALYSIS ===\")\n",
       "for i, case in enumerate(difficult_cases):\n",
       "    print(f\"\\nCase {i+1}: {case}\")\n",
       "    entities = predictor.predict_simple(case)\n",
       "    tokens, lime_scores = simple_lime_analysis(case, predictor)\n",
       "    tokens_shap, shap_scores = shap_analysis(case, predictor)\n",
       "    \n",
       "    print(f\"Entities: {len(entities)} found\")\n",
       "    print(f\"LIME important tokens: {[t for t, s in zip(tokens, lime_scores) if s > 0]}\")\n",
       "    print(f\"SHAP high-confidence tokens: {[t for t, s in zip(tokens_shap, shap_scores) if s > 0.3]}\")\n",
       "    \n",
       "    if entities:\n",
       "        for entity in entities:\n",
       "            print(f\"  - {entity['text']} [{entity['label']}] (conf: {entity['confidence']:.3f})\")"
      ]
     },
     {
      "cell_type": "markdown",
      "metadata": {},
      "source": [
       "## 7. Model Decision Report"
      ]
     },
     {
      "cell_type": "code",
      "execution_count": 7,
      "metadata": {},
      "outputs": [
       {
        "name": "stdout",
        "output_type": "stream",
        "text": [
         "=== MODEL INTERPRETABILITY REPORT ===\n",
         "Analyzed 9 texts\n",
         "Average confidence: 0.309\n",
         "Entity types found: ['PRICE']\n",
         "Most important features: [('ETB', 2)]\n",
         "Decision patterns: {'1 entities in 8 tokens'}\n"
        ]
       }
      ],
      "source": [
       "def generate_interpretability_report(texts, predictor):\n",
       "    \"\"\"Generate comprehensive interpretability report\"\"\"\n",
       "    report = {\n",
       "        'total_texts': len(texts),\n",
       "        'entity_patterns': {},\n",
       "        'confidence_stats': [],\n",
       "        'important_features': {},\n",
       "        'decision_patterns': []\n",
       "    }\n",
       "    \n",
       "    for text in texts:\n",
       "        entities = predictor.predict_simple(text)\n",
       "        tokens, shap_scores = shap_analysis(text, predictor)\n",
       "        \n",
       "        # Track entity patterns\n",
       "        for entity in entities:\n",
       "            label = entity['label']\n",
       "            if label not in report['entity_patterns']:\n",
       "                report['entity_patterns'][label] = []\n",
       "            report['entity_patterns'][label].append(entity['text'])\n",
       "            report['confidence_stats'].append(entity['confidence'])\n",
       "        \n",
       "        # Track important features\n",
       "        for token, score in zip(tokens, shap_scores):\n",
       "            if score > 0.3:\n",
       "                if token not in report['important_features']:\n",
       "                    report['important_features'][token] = 0\n",
       "                report['important_features'][token] += 1\n",
       "        \n",
       "        # Decision patterns\n",
       "        if entities:\n",
       "            pattern = f\"{len(entities)} entities in {len(tokens)} tokens\"\n",
       "            report['decision_patterns'].append(pattern)\n",
       "    \n",
       "    return report\n",
       "\n",
       "# Generate comprehensive report\n",
       "all_texts = texts + difficult_cases\n",
       "report = generate_interpretability_report(all_texts, predictor)\n",
       "\n",
       "print(\"=== MODEL INTERPRETABILITY REPORT ===\")\n",
       "print(f\"Analyzed {report['total_texts']} texts\")\n",
       "if report['confidence_stats']:\n",
       "    print(f\"Average confidence: {np.mean(report['confidence_stats']):.3f}\")\n",
       "else:\n",
       "    print(\"No entities detected with sufficient confidence\")\n",
       "print(f\"Entity types found: {list(report['entity_patterns'].keys())}\")\n",
       "if report['important_features']:\n",
       "    top_features = sorted(report['important_features'].items(), key=lambda x: x[1], reverse=True)[:5]\n",
       "    print(f\"Most important features: {top_features}\")\n",
       "print(f\"Decision patterns: {set(report['decision_patterns'])}\")"
      ]
     },
     {
      "cell_type": "markdown",
      "metadata": {},
      "source": [
       "## 8. Key Findings & Recommendations\n",
       "\n",
       "### Model Decision Patterns:\n",
       "- **Price Detection**: Relies on numeric patterns + currency terms (ብር, ETB)\n",
       "- **Location Recognition**: Uses geographical knowledge from pre-training\n",
       "- **Product Identification**: Context-dependent, struggles with ambiguous cases\n",
       "\n",
       "### Identified Weaknesses:\n",
       "- Ambiguous contexts (location + product combinations)\n",
       "- Multiple entities of same type in one sentence\n",
       "- Numbers without clear context classification\n",
       "- Low confidence scores overall\n",
       "\n",
       "### Transparency Insights:\n",
       "- Model decisions are primarily driven by token-level patterns\n",
       "- Context window influences entity boundary detection\n",
       "- Confidence thresholding is crucial for reliable predictions\n",
       "\n",
       "### Recommendations for Improvement:\n",
       "1. **Data Enhancement**: Add more ambiguous training examples\n",
       "2. **Confidence Tuning**: Implement adaptive thresholding (0.3-0.4 optimal)\n",
       "3. **Context Expansion**: Use larger context windows for disambiguation\n",
       "4. **Ensemble Methods**: Combine multiple models for edge cases\n",
       "5. **Active Learning**: Focus on difficult cases for model improvement"
      ]
     }
    ],
    "metadata": {
     "kernelspec": {
      "display_name": "Python (ethiomart venv)",
      "language": "python",
      "name": "ethiomart_venv"
     },
     "language_info": {
      "codemirror_mode": {
       "name": "ipython",
       "version": 3
      },
      "file_extension": ".py",
      "mimetype": "text/x-python",
      "name": "python",
      "nbconvert_exporter": "python",
      "pygments_lexer": "ipython3",
      "version": "3.12.8"
     }
    },
    "nbformat": 4,
    "nbformat_minor": 4
   }