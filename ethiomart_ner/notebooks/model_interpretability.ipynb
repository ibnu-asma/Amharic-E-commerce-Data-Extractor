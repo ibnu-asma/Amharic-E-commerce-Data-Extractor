{
 "cells": [
  {
   "cell_type": "markdown",
   "metadata": {},
   "source": [
    "# Task 5: Model Interpretability for Amharic NER\n",
    "\n",
    "This notebook demonstrates how to use SHAP and LIME to interpret the predictions of your best NER model."
   ]
  },
  {
   "cell_type": "markdown",
   "metadata": {},
   "source": [
    "## 1. Setup & Imports\n",
    "Install and import SHAP, LIME, and your model utilities."
   ]
  },
  {
   "cell_type": "code",
   "execution_count": 1,
   "metadata": {},
   "outputs": [
    {
     "name": "stderr",
     "output_type": "stream",
     "text": [
      "c:\\Users\\Cyber Defense\\Desktop\\week4\\ethiomart_ner\\venv\\Lib\\site-packages\\tqdm\\auto.py:21: TqdmWarning: IProgress not found. Please update jupyter and ipywidgets. See https://ipywidgets.readthedocs.io/en/stable/user_install.html\n",
      "  from .autonotebook import tqdm as notebook_tqdm\n"
     ]
    }
   ],
   "source": [
    "# Install if needed\n",
    "# !pip install shap lime --quiet\n",
    "import shap\n",
    "import lime\n",
    "import lime.lime_text\n",
    "import sys\n",
    "import os\n",
    "SRC_PATH = os.path.abspath(os.path.join(os.getcwd(), '../src'))\n",
    "if SRC_PATH not in sys.path:\n",
    "    sys.path.insert(0, SRC_PATH)\n",
    "from model_training.ner_trainer import FinalNERPredictor\n",
    "import numpy as np\n",
    "import matplotlib.pyplot as plt\n"
   ]
  },
  {
   "cell_type": "markdown",
   "metadata": {},
   "source": [
    "## 2. Load the Best Model\n",
    "Load the best-performing model from Task 4 (e.g., DistilBERT)."
   ]
  },
  {
   "cell_type": "code",
   "execution_count": 2,
   "metadata": {},
   "outputs": [],
   "source": [
    "MODEL_DIR = '../models/distilbert_ner'  # Update if another model is best\n",
    "predictor = FinalNERPredictor(MODEL_DIR)\n"
   ]
  },
  {
   "cell_type": "markdown",
   "metadata": {},
   "source": [
    "## 3. SHAP Explanations\n",
    "Use SHAP to explain which tokens most influence the model's entity predictions."
   ]
  },
  {
   "cell_type": "code",
   "execution_count": 3,
   "metadata": {},
   "outputs": [],
   "source": [
    "import shap\n",
    "import numpy as np\n",
    "\n",
    "def shap_predict_fn(texts):\n",
    "    # Returns a list of [num_tokens, num_classes] arrays\n",
    "    all_probs = []\n",
    "    for text in texts:\n",
    "        probs, _ = predictor.predict_token_probs(text)\n",
    "        all_probs.append(probs)\n",
    "    # SHAP expects a 2D array, so you may need to flatten or pad to the same length\n",
    "    # For demonstration, let's pad to the max token length in the batch\n",
    "    max_len = max(p.shape[0] for p in all_probs)\n",
    "    num_classes = all_probs[0].shape[1]\n",
    "    padded = np.zeros((len(all_probs), max_len, num_classes))\n",
    "    for i, p in enumerate(all_probs):\n",
    "        padded[i, :p.shape[0], :] = p\n",
    "    # Optionally, return only the class of interest (e.g., for 'B-PRODUCT')\n",
    "    return padded\n",
    "\n"
   ]
  },
  {
   "cell_type": "code",
   "execution_count": 4,
   "metadata": {},
   "outputs": [
    {
     "name": "stderr",
     "output_type": "stream",
     "text": [
      "c:\\Users\\Cyber Defense\\Desktop\\week4\\ethiomart_ner\\venv\\Lib\\site-packages\\IPython\\core\\pylabtools.py:170: UserWarning: Glyph 4768 (\\N{ETHIOPIC SYLLABLE GLOTTAL A}) missing from font(s) DejaVu Sans.\n",
      "  fig.canvas.print_figure(bytes_io, **kw)\n",
      "c:\\Users\\Cyber Defense\\Desktop\\week4\\ethiomart_ner\\venv\\Lib\\site-packages\\IPython\\core\\pylabtools.py:170: UserWarning: Glyph 4850 (\\N{ETHIOPIC SYLLABLE DI}) missing from font(s) DejaVu Sans.\n",
      "  fig.canvas.print_figure(bytes_io, **kw)\n",
      "c:\\Users\\Cyber Defense\\Desktop\\week4\\ethiomart_ner\\venv\\Lib\\site-packages\\IPython\\core\\pylabtools.py:170: UserWarning: Glyph 4661 (\\N{ETHIOPIC SYLLABLE SE}) missing from font(s) DejaVu Sans.\n",
      "  fig.canvas.print_figure(bytes_io, **kw)\n",
      "c:\\Users\\Cyber Defense\\Desktop\\week4\\ethiomart_ner\\venv\\Lib\\site-packages\\IPython\\core\\pylabtools.py:170: UserWarning: Glyph 4704 (\\N{ETHIOPIC SYLLABLE BA}) missing from font(s) DejaVu Sans.\n",
      "  fig.canvas.print_figure(bytes_io, **kw)\n",
      "c:\\Users\\Cyber Defense\\Desktop\\week4\\ethiomart_ner\\venv\\Lib\\site-packages\\IPython\\core\\pylabtools.py:170: UserWarning: Glyph 4707 (\\N{ETHIOPIC SYLLABLE BAA}) missing from font(s) DejaVu Sans.\n",
      "  fig.canvas.print_figure(bytes_io, **kw)\n",
      "c:\\Users\\Cyber Defense\\Desktop\\week4\\ethiomart_ner\\venv\\Lib\\site-packages\\IPython\\core\\pylabtools.py:170: UserWarning: Glyph 4619 (\\N{ETHIOPIC SYLLABLE LAA}) missing from font(s) DejaVu Sans.\n",
      "  fig.canvas.print_figure(bytes_io, **kw)\n",
      "c:\\Users\\Cyber Defense\\Desktop\\week4\\ethiomart_ner\\venv\\Lib\\site-packages\\IPython\\core\\pylabtools.py:170: UserWarning: Glyph 4845 (\\N{ETHIOPIC SYLLABLE YE}) missing from font(s) DejaVu Sans.\n",
      "  fig.canvas.print_figure(bytes_io, **kw)\n",
      "c:\\Users\\Cyber Defense\\Desktop\\week4\\ethiomart_ner\\venv\\Lib\\site-packages\\IPython\\core\\pylabtools.py:170: UserWarning: Glyph 4840 (\\N{ETHIOPIC SYLLABLE YA}) missing from font(s) DejaVu Sans.\n",
      "  fig.canvas.print_figure(bytes_io, **kw)\n",
      "c:\\Users\\Cyber Defense\\Desktop\\week4\\ethiomart_ner\\venv\\Lib\\site-packages\\IPython\\core\\pylabtools.py:170: UserWarning: Glyph 4613 (\\N{ETHIOPIC SYLLABLE HE}) missing from font(s) DejaVu Sans.\n",
      "  fig.canvas.print_figure(bytes_io, **kw)\n",
      "c:\\Users\\Cyber Defense\\Desktop\\week4\\ethiomart_ner\\venv\\Lib\\site-packages\\IPython\\core\\pylabtools.py:170: UserWarning: Glyph 4923 (\\N{ETHIOPIC SYLLABLE TSAA}) missing from font(s) DejaVu Sans.\n",
      "  fig.canvas.print_figure(bytes_io, **kw)\n",
      "c:\\Users\\Cyber Defense\\Desktop\\week4\\ethiomart_ner\\venv\\Lib\\site-packages\\IPython\\core\\pylabtools.py:170: UserWarning: Glyph 4755 (\\N{ETHIOPIC SYLLABLE NAA}) missing from font(s) DejaVu Sans.\n",
      "  fig.canvas.print_figure(bytes_io, **kw)\n",
      "c:\\Users\\Cyber Defense\\Desktop\\week4\\ethiomart_ner\\venv\\Lib\\site-packages\\IPython\\core\\pylabtools.py:170: UserWarning: Glyph 4725 (\\N{ETHIOPIC SYLLABLE TE}) missing from font(s) DejaVu Sans.\n",
      "  fig.canvas.print_figure(bytes_io, **kw)\n",
      "c:\\Users\\Cyber Defense\\Desktop\\week4\\ethiomart_ner\\venv\\Lib\\site-packages\\IPython\\core\\pylabtools.py:170: UserWarning: Glyph 4667 (\\N{ETHIOPIC SYLLABLE SHAA}) missing from font(s) DejaVu Sans.\n",
      "  fig.canvas.print_figure(bytes_io, **kw)\n",
      "c:\\Users\\Cyber Defense\\Desktop\\week4\\ethiomart_ner\\venv\\Lib\\site-packages\\IPython\\core\\pylabtools.py:170: UserWarning: Glyph 4709 (\\N{ETHIOPIC SYLLABLE BE}) missing from font(s) DejaVu Sans.\n",
      "  fig.canvas.print_figure(bytes_io, **kw)\n",
      "c:\\Users\\Cyber Defense\\Desktop\\week4\\ethiomart_ner\\venv\\Lib\\site-packages\\IPython\\core\\pylabtools.py:170: UserWarning: Glyph 4653 (\\N{ETHIOPIC SYLLABLE RE}) missing from font(s) DejaVu Sans.\n",
      "  fig.canvas.print_figure(bytes_io, **kw)\n",
      "c:\\Users\\Cyber Defense\\Desktop\\week4\\ethiomart_ner\\venv\\Lib\\site-packages\\IPython\\core\\pylabtools.py:170: UserWarning: Glyph 4669 (\\N{ETHIOPIC SYLLABLE SHE}) missing from font(s) DejaVu Sans.\n",
      "  fig.canvas.print_figure(bytes_io, **kw)\n",
      "c:\\Users\\Cyber Defense\\Desktop\\week4\\ethiomart_ner\\venv\\Lib\\site-packages\\IPython\\core\\pylabtools.py:170: UserWarning: Glyph 4843 (\\N{ETHIOPIC SYLLABLE YAA}) missing from font(s) DejaVu Sans.\n",
      "  fig.canvas.print_figure(bytes_io, **kw)\n",
      "c:\\Users\\Cyber Defense\\Desktop\\week4\\ethiomart_ner\\venv\\Lib\\site-packages\\IPython\\core\\pylabtools.py:170: UserWarning: Glyph 4909 (\\N{ETHIOPIC SYLLABLE CHE}) missing from font(s) DejaVu Sans.\n",
      "  fig.canvas.print_figure(bytes_io, **kw)\n",
      "c:\\Users\\Cyber Defense\\Desktop\\week4\\ethiomart_ner\\venv\\Lib\\site-packages\\IPython\\core\\pylabtools.py:170: UserWarning: Glyph 4752 (\\N{ETHIOPIC SYLLABLE NA}) missing from font(s) DejaVu Sans.\n",
      "  fig.canvas.print_figure(bytes_io, **kw)\n",
      "c:\\Users\\Cyber Defense\\Desktop\\week4\\ethiomart_ner\\venv\\Lib\\site-packages\\IPython\\core\\pylabtools.py:170: UserWarning: Glyph 4813 (\\N{ETHIOPIC SYLLABLE WE}) missing from font(s) DejaVu Sans.\n",
      "  fig.canvas.print_figure(bytes_io, **kw)\n"
     ]
    },
    {
     "data": {
      "image/png": "[encoded data removed]",
      "text/plain": [
       "<Figure size 770x200 with 1 Axes>"
      ]
     },
     "metadata": {},
     "output_type": "display_data"
    }
   ],
   "source": [
    "import matplotlib.pyplot as plt\n",
    "import numpy as np\n",
    "\n",
    "def plot_token_importances(tokens, importances, title=\"Token Importances\"):\n",
    "    plt.figure(figsize=(len(tokens)*0.7, 2))\n",
    "    colors = plt.cm.Reds((np.array(importances) - min(importances)) / (max(importances) - min(importances) + 1e-8))\n",
    "    for i, (token, imp) in enumerate(zip(tokens, importances)):\n",
    "        plt.text(i, 0, token, fontsize=14, ha='center', va='center', \n",
    "                 bbox=dict(facecolor=colors[i], edgecolor='none', boxstyle='round,pad=0.3'))\n",
    "    plt.axis('off')\n",
    "    plt.title(title)\n",
    "    plt.show()\n",
    "\n",
    "# Example usage:\n",
    "tokens = [\"አዲስ\", \"አበባ\", \"ላይ\", \"የህጻናት\", \"ሻይ\", \"በ\", \"250\", \"ብር\", \"ሽያጭ\", \"ላይ\", \"ነው\"]\n",
    "importances = [0.1, 0.2, 0.05, 0.3, 0.4, 0.05, 0.6, 0.7, 0.2, 0.05, 0.01]  # Example SHAP/LIME values\n",
    "plot_token_importances(tokens, importances, title=\"SHAP values for 'PRICE'\")"
   ]
  },
  {
   "cell_type": "code",
   "execution_count": 5,
   "metadata": {},
   "outputs": [
    {
     "name": "stderr",
     "output_type": "stream",
     "text": [
      "C:\\Users\\Cyber Defense\\AppData\\Local\\Temp\\ipykernel_16660\\2715236989.py:5: MatplotlibDeprecationWarning: The get_cmap function was deprecated in Matplotlib 3.7 and will be removed in 3.11. Use ``matplotlib.colormaps[name]`` or ``matplotlib.colormaps.get_cmap()`` or ``pyplot.get_cmap()`` instead.\n",
      "  colors = plt.cm.get_cmap(cmap)\n"
     ]
    },
    {
     "data": {
      "text/html": [
       "<span style='background-color:rgba(253, 222, 208, 1.00); padding:2px; margin:1px'>አዲስ</span> <span style='background-color:rgba(252, 178, 151, 1.00); padding:2px; margin:1px'>አበባ</span> <span style='background-color:rgba(254, 235, 226, 1.00); padding:2px; margin:1px'>ላይ</span> <span style='background-color:rgba(251, 131, 99, 1.00); padding:2px; margin:1px'>የህጻናት</span> <span style='background-color:rgba(244, 81, 58, 1.00); padding:2px; margin:1px'>ሻይ</span> <span style='background-color:rgba(254, 235, 226, 1.00); padding:2px; margin:1px'>በ</span> <span style='background-color:rgba(171, 16, 22, 1.00); padding:2px; margin:1px'>250</span> <span style='background-color:rgba(103, 0, 12, 1.00); padding:2px; margin:1px'>ብር</span> <span style='background-color:rgba(252, 178, 151, 1.00); padding:2px; margin:1px'>ሽያጭ</span> <span style='background-color:rgba(254, 235, 226, 1.00); padding:2px; margin:1px'>ላይ</span> <span style='background-color:rgba(255, 245, 240, 1.00); padding:2px; margin:1px'>ነው</span> "
      ],
      "text/plain": [
       "<IPython.core.display.HTML object>"
      ]
     },
     "metadata": {},
     "output_type": "display_data"
    }
   ],
   "source": [
    "from IPython.display import display, HTML\n",
    "\n",
    "def color_tokens(tokens, importances, cmap='Reds'):\n",
    "    norm = plt.Normalize(min(importances), max(importances))\n",
    "    colors = plt.cm.get_cmap(cmap)\n",
    "    html = \"\"\n",
    "    for token, imp in zip(tokens, importances):\n",
    "        color = colors(norm(imp))\n",
    "        color_str = f\"rgba({int(color[0]*255)}, {int(color[1]*255)}, {int(color[2]*255)}, {color[3]:.2f})\"\n",
    "        html += f\"<span style='background-color:{color_str}; padding:2px; margin:1px'>{token}</span> \"\n",
    "    display(HTML(html))\n",
    "\n",
    "# Example usage:\n",
    "color_tokens(tokens, importances)"
   ]
  },
  {
   "cell_type": "markdown",
   "metadata": {},
   "source": [
    "## 4. LIME Explanations\n",
    "Use LIME to generate local explanations for a sample prediction."
   ]
  },
  {
   "cell_type": "code",
   "execution_count": 12,
   "metadata": {},
   "outputs": [
    {
     "ename": "ImportError",
     "evalue": "cannot import name 'display' from 'IPython.core.display' (c:\\Users\\Cyber Defense\\Desktop\\week4\\ethiomart_ner\\venv\\Lib\\site-packages\\IPython\\core\\display.py)",
     "output_type": "error",
     "traceback": [
      "\u001b[31m---------------------------------------------------------------------------\u001b[39m",
      "\u001b[31mImportError\u001b[39m                               Traceback (most recent call last)",
      "\u001b[36mCell\u001b[39m\u001b[36m \u001b[39m\u001b[32mIn[12]\u001b[39m\u001b[32m, line 23\u001b[39m\n\u001b[32m     17\u001b[39m lime_explainer = LimeTextExplainer(class_names=predictor.label_list)\n\u001b[32m     18\u001b[39m lime_exp = lime_explainer.explain_instance(\n\u001b[32m     19\u001b[39m     sample_text,\n\u001b[32m     20\u001b[39m     lime_predict_fn,\n\u001b[32m     21\u001b[39m     num_features=\u001b[32m10\u001b[39m\n\u001b[32m     22\u001b[39m )\n\u001b[32m---> \u001b[39m\u001b[32m23\u001b[39m \u001b[43mlime_exp\u001b[49m\u001b[43m.\u001b[49m\u001b[43mshow_in_notebook\u001b[49m\u001b[43m(\u001b[49m\u001b[43mtext\u001b[49m\u001b[43m=\u001b[49m\u001b[38;5;28;43;01mTrue\u001b[39;49;00m\u001b[43m)\u001b[49m\n",
      "\u001b[36mFile \u001b[39m\u001b[32mc:\\Users\\Cyber Defense\\Desktop\\week4\\ethiomart_ner\\venv\\Lib\\site-packages\\lime\\explanation.py:194\u001b[39m, in \u001b[36mExplanation.show_in_notebook\u001b[39m\u001b[34m(self, labels, predict_proba, show_predicted_value, **kwargs)\u001b[39m\n\u001b[32m    184\u001b[39m \u001b[38;5;28;01mdef\u001b[39;00m\u001b[38;5;250m \u001b[39m\u001b[34mshow_in_notebook\u001b[39m(\u001b[38;5;28mself\u001b[39m,\n\u001b[32m    185\u001b[39m                      labels=\u001b[38;5;28;01mNone\u001b[39;00m,\n\u001b[32m    186\u001b[39m                      predict_proba=\u001b[38;5;28;01mTrue\u001b[39;00m,\n\u001b[32m    187\u001b[39m                      show_predicted_value=\u001b[38;5;28;01mTrue\u001b[39;00m,\n\u001b[32m    188\u001b[39m                      **kwargs):\n\u001b[32m    189\u001b[39m \u001b[38;5;250m    \u001b[39m\u001b[33;03m\"\"\"Shows html explanation in ipython notebook.\u001b[39;00m\n\u001b[32m    190\u001b[39m \n\u001b[32m    191\u001b[39m \u001b[33;03m    See as_html() for parameters.\u001b[39;00m\n\u001b[32m    192\u001b[39m \u001b[33;03m    This will throw an error if you don't have IPython installed\"\"\"\u001b[39;00m\n\u001b[32m--> \u001b[39m\u001b[32m194\u001b[39m     \u001b[38;5;28;01mfrom\u001b[39;00m\u001b[38;5;250m \u001b[39m\u001b[34;01mIPython\u001b[39;00m\u001b[34;01m.\u001b[39;00m\u001b[34;01mcore\u001b[39;00m\u001b[34;01m.\u001b[39;00m\u001b[34;01mdisplay\u001b[39;00m\u001b[38;5;250m \u001b[39m\u001b[38;5;28;01mimport\u001b[39;00m display, HTML\n\u001b[32m    195\u001b[39m     display(HTML(\u001b[38;5;28mself\u001b[39m.as_html(labels=labels,\n\u001b[32m    196\u001b[39m                               predict_proba=predict_proba,\n\u001b[32m    197\u001b[39m                               show_predicted_value=show_predicted_value,\n\u001b[32m    198\u001b[39m                               **kwargs)))\n",
      "\u001b[31mImportError\u001b[39m: cannot import name 'display' from 'IPython.core.display' (c:\\Users\\Cyber Defense\\Desktop\\week4\\ethiomart_ner\\venv\\Lib\\site-packages\\IPython\\core\\display.py)"
     ]
    }
   ],
   "source": [
    "from lime.lime_text import LimeTextExplainer\n",
    "\n",
    "def lime_predict_fn(texts):\n",
    "    all_probs = []\n",
    "    num_classes = len(predictor.label_list)\n",
    "    for text in texts:\n",
    "        probs, _ = predictor.predict_token_probs(text)\n",
    "        # If no tokens, return zeros of correct shape\n",
    "        if probs.ndim < 2 or probs.shape[0] == 0:\n",
    "            all_probs.append(np.zeros(num_classes))\n",
    "        else:\n",
    "            all_probs.append(probs.mean(axis=0))\n",
    "    return np.vstack(all_probs)\n",
    "\n",
    "sample_text = \"አዲስ አበባ ላይ የህጻናት ልብስ 250 ብር ሽያጭ ላይ ነው\"\n",
    "\n",
    "lime_explainer = LimeTextExplainer(class_names=predictor.label_list)\n",
    "lime_exp = lime_explainer.explain_instance(\n",
    "    sample_text,\n",
    "    lime_predict_fn,\n",
    "    num_features=10\n",
    ")\n",
    "lime_exp.show_in_notebook(text=True)\n"
   ]
  },
  {
   "cell_type": "markdown",
   "metadata": {},
   "source": [
    "## 5. Analyze Difficult Cases\n",
    "Select and interpret examples where the model struggles (e.g., ambiguous or misclassified entities)."
   ]
  },
  {
   "cell_type": "code",
   "execution_count": 13,
   "metadata": {},
   "outputs": [
    {
     "ename": "ValueError",
     "evalue": "zero-size array to reduction operation maximum which has no identity",
     "output_type": "error",
     "traceback": [
      "\u001b[31m---------------------------------------------------------------------------\u001b[39m",
      "\u001b[31mValueError\u001b[39m                                Traceback (most recent call last)",
      "\u001b[36mCell\u001b[39m\u001b[36m \u001b[39m\u001b[32mIn[13]\u001b[39m\u001b[32m, line 3\u001b[39m\n\u001b[32m      1\u001b[39m \u001b[38;5;66;03m# Example: Analyze a difficult sentence\u001b[39;00m\n\u001b[32m      2\u001b[39m difficult_text = \u001b[33m'\u001b[39m\u001b[33mበቦሌ ማእከል የሚገኙ አዲስ ምርቶች በ 5000 ብር ሽያጭ ላይ ናቸው\u001b[39m\u001b[33m'\u001b[39m\n\u001b[32m----> \u001b[39m\u001b[32m3\u001b[39m shap_values_diff = \u001b[43mexplainer\u001b[49m\u001b[43m(\u001b[49m\u001b[43m[\u001b[49m\u001b[43mdifficult_text\u001b[49m\u001b[43m]\u001b[49m\u001b[43m)\u001b[49m\n\u001b[32m      4\u001b[39m shap.plots.text(shap_values_diff[\u001b[32m0\u001b[39m])\n",
      "\u001b[36mFile \u001b[39m\u001b[32mc:\\Users\\Cyber Defense\\Desktop\\week4\\ethiomart_ner\\venv\\Lib\\site-packages\\shap\\explainers\\_partition.py:128\u001b[39m, in \u001b[36mPartitionExplainer.__call__\u001b[39m\u001b[34m(self, max_evals, fixed_context, main_effects, error_bounds, batch_size, outputs, silent, *args)\u001b[39m\n\u001b[32m    125\u001b[39m \u001b[38;5;28;01mdef\u001b[39;00m\u001b[38;5;250m \u001b[39m\u001b[34m__call__\u001b[39m(\u001b[38;5;28mself\u001b[39m, *args, max_evals=\u001b[32m500\u001b[39m, fixed_context=\u001b[38;5;28;01mNone\u001b[39;00m, main_effects=\u001b[38;5;28;01mFalse\u001b[39;00m, error_bounds=\u001b[38;5;28;01mFalse\u001b[39;00m, batch_size=\u001b[33m\"\u001b[39m\u001b[33mauto\u001b[39m\u001b[33m\"\u001b[39m,\n\u001b[32m    126\u001b[39m              outputs=\u001b[38;5;28;01mNone\u001b[39;00m, silent=\u001b[38;5;28;01mFalse\u001b[39;00m):\n\u001b[32m    127\u001b[39m \u001b[38;5;250m    \u001b[39m\u001b[33;03m\"\"\"Explain the output of the model on the given arguments.\"\"\"\u001b[39;00m\n\u001b[32m--> \u001b[39m\u001b[32m128\u001b[39m     \u001b[38;5;28;01mreturn\u001b[39;00m \u001b[38;5;28;43msuper\u001b[39;49m\u001b[43m(\u001b[49m\u001b[43m)\u001b[49m\u001b[43m.\u001b[49m\u001b[34;43m__call__\u001b[39;49m\u001b[43m(\u001b[49m\n\u001b[32m    129\u001b[39m \u001b[43m        \u001b[49m\u001b[43m*\u001b[49m\u001b[43margs\u001b[49m\u001b[43m,\u001b[49m\u001b[43m \u001b[49m\u001b[43mmax_evals\u001b[49m\u001b[43m=\u001b[49m\u001b[43mmax_evals\u001b[49m\u001b[43m,\u001b[49m\u001b[43m \u001b[49m\u001b[43mfixed_context\u001b[49m\u001b[43m=\u001b[49m\u001b[43mfixed_context\u001b[49m\u001b[43m,\u001b[49m\u001b[43m \u001b[49m\u001b[43mmain_effects\u001b[49m\u001b[43m=\u001b[49m\u001b[43mmain_effects\u001b[49m\u001b[43m,\u001b[49m\u001b[43m \u001b[49m\u001b[43merror_bounds\u001b[49m\u001b[43m=\u001b[49m\u001b[43merror_bounds\u001b[49m\u001b[43m,\u001b[49m\u001b[43m \u001b[49m\u001b[43mbatch_size\u001b[49m\u001b[43m=\u001b[49m\u001b[43mbatch_size\u001b[49m\u001b[43m,\u001b[49m\n\u001b[32m    130\u001b[39m \u001b[43m        \u001b[49m\u001b[43moutputs\u001b[49m\u001b[43m=\u001b[49m\u001b[43moutputs\u001b[49m\u001b[43m,\u001b[49m\u001b[43m \u001b[49m\u001b[43msilent\u001b[49m\u001b[43m=\u001b[49m\u001b[43msilent\u001b[49m\n\u001b[32m    131\u001b[39m \u001b[43m    \u001b[49m\u001b[43m)\u001b[49m\n",
      "\u001b[36mFile \u001b[39m\u001b[32mc:\\Users\\Cyber Defense\\Desktop\\week4\\ethiomart_ner\\venv\\Lib\\site-packages\\shap\\explainers\\_explainer.py:266\u001b[39m, in \u001b[36mExplainer.__call__\u001b[39m\u001b[34m(self, max_evals, main_effects, error_bounds, batch_size, outputs, silent, *args, **kwargs)\u001b[39m\n\u001b[32m    264\u001b[39m     feature_names = [[] \u001b[38;5;28;01mfor\u001b[39;00m _ \u001b[38;5;129;01min\u001b[39;00m \u001b[38;5;28mrange\u001b[39m(\u001b[38;5;28mlen\u001b[39m(args))]\n\u001b[32m    265\u001b[39m \u001b[38;5;28;01mfor\u001b[39;00m row_args \u001b[38;5;129;01min\u001b[39;00m show_progress(\u001b[38;5;28mzip\u001b[39m(*args), num_rows, \u001b[38;5;28mself\u001b[39m.\u001b[34m__class__\u001b[39m.\u001b[34m__name__\u001b[39m+\u001b[33m\"\u001b[39m\u001b[33m explainer\u001b[39m\u001b[33m\"\u001b[39m, silent):\n\u001b[32m--> \u001b[39m\u001b[32m266\u001b[39m     row_result = \u001b[38;5;28;43mself\u001b[39;49m\u001b[43m.\u001b[49m\u001b[43mexplain_row\u001b[49m\u001b[43m(\u001b[49m\n\u001b[32m    267\u001b[39m \u001b[43m        \u001b[49m\u001b[43m*\u001b[49m\u001b[43mrow_args\u001b[49m\u001b[43m,\u001b[49m\u001b[43m \u001b[49m\u001b[43mmax_evals\u001b[49m\u001b[43m=\u001b[49m\u001b[43mmax_evals\u001b[49m\u001b[43m,\u001b[49m\u001b[43m \u001b[49m\u001b[43mmain_effects\u001b[49m\u001b[43m=\u001b[49m\u001b[43mmain_effects\u001b[49m\u001b[43m,\u001b[49m\u001b[43m \u001b[49m\u001b[43merror_bounds\u001b[49m\u001b[43m=\u001b[49m\u001b[43merror_bounds\u001b[49m\u001b[43m,\u001b[49m\n\u001b[32m    268\u001b[39m \u001b[43m        \u001b[49m\u001b[43mbatch_size\u001b[49m\u001b[43m=\u001b[49m\u001b[43mbatch_size\u001b[49m\u001b[43m,\u001b[49m\u001b[43m \u001b[49m\u001b[43moutputs\u001b[49m\u001b[43m=\u001b[49m\u001b[43moutputs\u001b[49m\u001b[43m,\u001b[49m\u001b[43m \u001b[49m\u001b[43msilent\u001b[49m\u001b[43m=\u001b[49m\u001b[43msilent\u001b[49m\u001b[43m,\u001b[49m\u001b[43m \u001b[49m\u001b[43m*\u001b[49m\u001b[43m*\u001b[49m\u001b[43mkwargs\u001b[49m\n\u001b[32m    269\u001b[39m \u001b[43m    \u001b[49m\u001b[43m)\u001b[49m\n\u001b[32m    270\u001b[39m     values.append(row_result.get(\u001b[33m\"\u001b[39m\u001b[33mvalues\u001b[39m\u001b[33m\"\u001b[39m, \u001b[38;5;28;01mNone\u001b[39;00m))\n\u001b[32m    271\u001b[39m     output_indices.append(row_result.get(\u001b[33m\"\u001b[39m\u001b[33moutput_indices\u001b[39m\u001b[33m\"\u001b[39m, \u001b[38;5;28;01mNone\u001b[39;00m))\n",
      "\u001b[36mFile \u001b[39m\u001b[32mc:\\Users\\Cyber Defense\\Desktop\\week4\\ethiomart_ner\\venv\\Lib\\site-packages\\shap\\explainers\\_partition.py:174\u001b[39m, in \u001b[36mPartitionExplainer.explain_row\u001b[39m\u001b[34m(self, max_evals, main_effects, error_bounds, batch_size, outputs, silent, fixed_context, *row_args)\u001b[39m\n\u001b[32m    171\u001b[39m \u001b[38;5;28mself\u001b[39m.values = np.zeros(out_shape)\n\u001b[32m    172\u001b[39m \u001b[38;5;28mself\u001b[39m.dvalues = np.zeros(out_shape)\n\u001b[32m--> \u001b[39m\u001b[32m174\u001b[39m \u001b[38;5;28;43mself\u001b[39;49m\u001b[43m.\u001b[49m\u001b[43mowen\u001b[49m\u001b[43m(\u001b[49m\u001b[43mfm\u001b[49m\u001b[43m,\u001b[49m\u001b[43m \u001b[49m\u001b[38;5;28;43mself\u001b[39;49m\u001b[43m.\u001b[49m\u001b[43m_curr_base_value\u001b[49m\u001b[43m,\u001b[49m\u001b[43m \u001b[49m\u001b[43mf11\u001b[49m\u001b[43m,\u001b[49m\u001b[43m \u001b[49m\u001b[43mmax_evals\u001b[49m\u001b[43m \u001b[49m\u001b[43m-\u001b[49m\u001b[43m \u001b[49m\u001b[32;43m2\u001b[39;49m\u001b[43m,\u001b[49m\u001b[43m \u001b[49m\u001b[43moutputs\u001b[49m\u001b[43m,\u001b[49m\u001b[43m \u001b[49m\u001b[43mfixed_context\u001b[49m\u001b[43m,\u001b[49m\u001b[43m \u001b[49m\u001b[43mbatch_size\u001b[49m\u001b[43m,\u001b[49m\u001b[43m \u001b[49m\u001b[43msilent\u001b[49m\u001b[43m)\u001b[49m\n\u001b[32m    176\u001b[39m \u001b[38;5;66;03m# if False:\u001b[39;00m\n\u001b[32m    177\u001b[39m \u001b[38;5;66;03m#     if self.multi_output:\u001b[39;00m\n\u001b[32m    178\u001b[39m \u001b[38;5;66;03m#         return [self.dvalues[:,i] for i in range(self.dvalues.shape[1])], oinds\u001b[39;00m\n\u001b[32m   (...)\u001b[39m\u001b[32m    181\u001b[39m \u001b[38;5;66;03m# else:\u001b[39;00m\n\u001b[32m    182\u001b[39m \u001b[38;5;66;03m# drop the interaction terms down onto self.values\u001b[39;00m\n\u001b[32m    183\u001b[39m \u001b[38;5;28mself\u001b[39m.values[:] = \u001b[38;5;28mself\u001b[39m.dvalues\n",
      "\u001b[36mFile \u001b[39m\u001b[32mc:\\Users\\Cyber Defense\\Desktop\\week4\\ethiomart_ner\\venv\\Lib\\site-packages\\shap\\explainers\\_partition.py:316\u001b[39m, in \u001b[36mPartitionExplainer.owen\u001b[39m\u001b[34m(self, fm, f00, f11, max_evals, output_indexes, fixed_context, batch_size, silent)\u001b[39m\n\u001b[32m    313\u001b[39m \u001b[38;5;28;01mif\u001b[39;00m fixed_context \u001b[38;5;129;01mis\u001b[39;00m \u001b[38;5;28;01mNone\u001b[39;00m \u001b[38;5;129;01mor\u001b[39;00m fixed_context == \u001b[32m0\u001b[39m:\n\u001b[32m    314\u001b[39m     \u001b[38;5;66;03m# recurse on the left node with zero context\u001b[39;00m\n\u001b[32m    315\u001b[39m     args = (m00, f00, f10, lind, new_weight)\n\u001b[32m--> \u001b[39m\u001b[32m316\u001b[39m     q.put((-\u001b[43mnp\u001b[49m\u001b[43m.\u001b[49m\u001b[43mmax\u001b[49m\u001b[43m(\u001b[49m\u001b[43mnp\u001b[49m\u001b[43m.\u001b[49m\u001b[43mabs\u001b[49m\u001b[43m(\u001b[49m\u001b[43mf10\u001b[49m\u001b[43m \u001b[49m\u001b[43m-\u001b[49m\u001b[43m \u001b[49m\u001b[43mf00\u001b[49m\u001b[43m)\u001b[49m\u001b[43m)\u001b[49m * new_weight, np.random.randn(), args))\n\u001b[32m    318\u001b[39m     \u001b[38;5;66;03m# recurse on the right node with zero context\u001b[39;00m\n\u001b[32m    319\u001b[39m     args = (m00, f00, f01, rind, new_weight)\n",
      "\u001b[36mFile \u001b[39m\u001b[32mc:\\Users\\Cyber Defense\\Desktop\\week4\\ethiomart_ner\\venv\\Lib\\site-packages\\numpy\\core\\fromnumeric.py:2810\u001b[39m, in \u001b[36mmax\u001b[39m\u001b[34m(a, axis, out, keepdims, initial, where)\u001b[39m\n\u001b[32m   2692\u001b[39m \u001b[38;5;129m@array_function_dispatch\u001b[39m(_max_dispatcher)\n\u001b[32m   2693\u001b[39m \u001b[38;5;129m@set_module\u001b[39m(\u001b[33m'\u001b[39m\u001b[33mnumpy\u001b[39m\u001b[33m'\u001b[39m)\n\u001b[32m   2694\u001b[39m \u001b[38;5;28;01mdef\u001b[39;00m\u001b[38;5;250m \u001b[39m\u001b[34mmax\u001b[39m(a, axis=\u001b[38;5;28;01mNone\u001b[39;00m, out=\u001b[38;5;28;01mNone\u001b[39;00m, keepdims=np._NoValue, initial=np._NoValue,\n\u001b[32m   2695\u001b[39m          where=np._NoValue):\n\u001b[32m   2696\u001b[39m \u001b[38;5;250m    \u001b[39m\u001b[33;03m\"\"\"\u001b[39;00m\n\u001b[32m   2697\u001b[39m \u001b[33;03m    Return the maximum of an array or maximum along an axis.\u001b[39;00m\n\u001b[32m   2698\u001b[39m \n\u001b[32m   (...)\u001b[39m\u001b[32m   2808\u001b[39m \u001b[33;03m    5\u001b[39;00m\n\u001b[32m   2809\u001b[39m \u001b[33;03m    \"\"\"\u001b[39;00m\n\u001b[32m-> \u001b[39m\u001b[32m2810\u001b[39m     \u001b[38;5;28;01mreturn\u001b[39;00m \u001b[43m_wrapreduction\u001b[49m\u001b[43m(\u001b[49m\u001b[43ma\u001b[49m\u001b[43m,\u001b[49m\u001b[43m \u001b[49m\u001b[43mnp\u001b[49m\u001b[43m.\u001b[49m\u001b[43mmaximum\u001b[49m\u001b[43m,\u001b[49m\u001b[43m \u001b[49m\u001b[33;43m'\u001b[39;49m\u001b[33;43mmax\u001b[39;49m\u001b[33;43m'\u001b[39;49m\u001b[43m,\u001b[49m\u001b[43m \u001b[49m\u001b[43maxis\u001b[49m\u001b[43m,\u001b[49m\u001b[43m \u001b[49m\u001b[38;5;28;43;01mNone\u001b[39;49;00m\u001b[43m,\u001b[49m\u001b[43m \u001b[49m\u001b[43mout\u001b[49m\u001b[43m,\u001b[49m\n\u001b[32m   2811\u001b[39m \u001b[43m                          \u001b[49m\u001b[43mkeepdims\u001b[49m\u001b[43m=\u001b[49m\u001b[43mkeepdims\u001b[49m\u001b[43m,\u001b[49m\u001b[43m \u001b[49m\u001b[43minitial\u001b[49m\u001b[43m=\u001b[49m\u001b[43minitial\u001b[49m\u001b[43m,\u001b[49m\u001b[43m \u001b[49m\u001b[43mwhere\u001b[49m\u001b[43m=\u001b[49m\u001b[43mwhere\u001b[49m\u001b[43m)\u001b[49m\n",
      "\u001b[36mFile \u001b[39m\u001b[32mc:\\Users\\Cyber Defense\\Desktop\\week4\\ethiomart_ner\\venv\\Lib\\site-packages\\numpy\\core\\fromnumeric.py:88\u001b[39m, in \u001b[36m_wrapreduction\u001b[39m\u001b[34m(obj, ufunc, method, axis, dtype, out, **kwargs)\u001b[39m\n\u001b[32m     85\u001b[39m         \u001b[38;5;28;01melse\u001b[39;00m:\n\u001b[32m     86\u001b[39m             \u001b[38;5;28;01mreturn\u001b[39;00m reduction(axis=axis, out=out, **passkwargs)\n\u001b[32m---> \u001b[39m\u001b[32m88\u001b[39m \u001b[38;5;28;01mreturn\u001b[39;00m \u001b[43mufunc\u001b[49m\u001b[43m.\u001b[49m\u001b[43mreduce\u001b[49m\u001b[43m(\u001b[49m\u001b[43mobj\u001b[49m\u001b[43m,\u001b[49m\u001b[43m \u001b[49m\u001b[43maxis\u001b[49m\u001b[43m,\u001b[49m\u001b[43m \u001b[49m\u001b[43mdtype\u001b[49m\u001b[43m,\u001b[49m\u001b[43m \u001b[49m\u001b[43mout\u001b[49m\u001b[43m,\u001b[49m\u001b[43m \u001b[49m\u001b[43m*\u001b[49m\u001b[43m*\u001b[49m\u001b[43mpasskwargs\u001b[49m\u001b[43m)\u001b[49m\n",
      "\u001b[31mValueError\u001b[39m: zero-size array to reduction operation maximum which has no identity"
     ]
    }
   ],
   "source": [
    "# Example: Analyze a difficult sentence\n",
    "difficult_text = 'በቦሌ ማእከል የሚገኙ አዲስ ምርቶች በ 5000 ብር ሽያጭ ላይ ናቸው'\n",
    "shap_values_diff = explainer([difficult_text])\n",
    "shap.plots.text(shap_values_diff[0])\n"
   ]
  },
  {
   "cell_type": "markdown",
   "metadata": {},
   "source": [
    "## 6. Reporting & Recommendations\n",
    "Summarize findings, highlight model strengths/weaknesses, and suggest improvements."
   ]
  }
 ],
 "metadata": {
  "kernelspec": {
   "display_name": "Python (ethiomart venv)",
   "language": "python",
   "name": "ethiomart_venv"
  },
  "language_info": {
   "codemirror_mode": {
    "name": "ipython",
    "version": 3
   },
   "file_extension": ".py",
   "mimetype": "text/x-python",
   "name": "python",
   "nbconvert_exporter": "python",
   "pygments_lexer": "ipython3",
   "version": "3.12.8"
  }
 },
 "nbformat": 4,
 "nbformat_minor": 2
}
